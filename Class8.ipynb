{
 "cells": [
  {
   "cell_type": "code",
   "execution_count": 1,
   "metadata": {},
   "outputs": [
    {
     "name": "stdout",
     "output_type": "stream",
     "text": [
      "There is an ape\n"
     ]
    }
   ],
   "source": [
    "import re \n",
    "\n",
    "if re.search(\"ape\", \"The ape was the apex\"):\n",
    "    print(\"There is an ape\")"
   ]
  },
  {
   "cell_type": "code",
   "execution_count": 2,
   "metadata": {},
   "outputs": [
    {
     "name": "stdout",
     "output_type": "stream",
     "text": [
      "ape\n"
     ]
    }
   ],
   "source": [
    "import re \n",
    "\n",
    "allApes = re.findall(\"ape\", \"Ape ws at the apex\")\n",
    "\n",
    "for i in allApes:\n",
    "    print(i) "
   ]
  },
  {
   "cell_type": "code",
   "execution_count": 5,
   "metadata": {},
   "outputs": [
    {
     "name": "stdout",
     "output_type": "stream",
     "text": [
      "(15, 19)\n",
      "apex\n"
     ]
    }
   ],
   "source": [
    "str = \"Ape was at the apex\"\n",
    "\n",
    "for i in re.finditer(\"ape.\",str):\n",
    "    locTuple = i.span()\n",
    "    \n",
    "    print(locTuple)\n",
    "    \n",
    "    print(str[locTuple[0]:locTuple[1]])"
   ]
  },
  {
   "cell_type": "code",
   "execution_count": 6,
   "metadata": {},
   "outputs": [
    {
     "name": "stdout",
     "output_type": "stream",
     "text": [
      "rat\n",
      "mat\n",
      "fat\n",
      "pat\n",
      "\n"
     ]
    }
   ],
   "source": [
    "import re \n",
    "\n",
    "ani = \"Cat rat mat fat pat\"\n",
    "\n",
    "all = re.findall(\"[crmfp]at\", ani)\n",
    "\n",
    "for i in all:\n",
    "    print(i)\n",
    "print()"
   ]
  },
  {
   "cell_type": "code",
   "execution_count": 8,
   "metadata": {},
   "outputs": [
    {
     "name": "stdout",
     "output_type": "stream",
     "text": [
      "Cat\n",
      "mat\n",
      "fat\n",
      "\n"
     ]
    }
   ],
   "source": [
    "ani =\"Cat rat mat fat pat\"\n",
    "some = re.findall(\"[c-mC-M]at\", ani)\n",
    "\n",
    "for i in some:\n",
    "    print(i) \n",
    "    \n",
    "print()"
   ]
  },
  {
   "cell_type": "code",
   "execution_count": 9,
   "metadata": {},
   "outputs": [
    {
     "name": "stdout",
     "output_type": "stream",
     "text": [
      "mat\n",
      "fat\n",
      "pat\n",
      "\n"
     ]
    }
   ],
   "source": [
    "ani =\"Cat rat mat fat pat\"\n",
    "some = re.findall(\"[^Cr]at\", ani)\n",
    "\n",
    "for i in some:\n",
    "    print(i) \n",
    "    \n",
    "print()\n"
   ]
  },
  {
   "cell_type": "code",
   "execution_count": 11,
   "metadata": {},
   "outputs": [
    {
     "name": "stdout",
     "output_type": "stream",
     "text": [
      "owl owl mat pat\n"
     ]
    }
   ],
   "source": [
    "import re \n",
    "\n",
    "owlfood=\"rat cat mat pat\"\n",
    "\n",
    "regex = re.compile(\"[cr]at\")\n",
    "\n",
    "owlfood = regex.sub(\"owl\",owlfood)\n",
    "print(owlfood)"
   ]
  },
  {
   "cell_type": "code",
   "execution_count": 12,
   "metadata": {},
   "outputs": [
    {
     "name": "stdout",
     "output_type": "stream",
     "text": [
      "Find \\stuff :  None\n",
      "Find \\stuff :  <re.Match object; span=(8, 14), match='\\\\stuff'>\n",
      "Find \\stuff :  <re.Match object; span=(8, 14), match='\\\\stuff'>\n"
     ]
    }
   ],
   "source": [
    "import re \n",
    "\n",
    "randstr = \"Here is \\\\stuff\"\n",
    "\n",
    "print(\"Find \\\\stuff : \", re.search(\"\\\\stuff\", randstr))\n",
    "\n",
    "print(\"Find \\\\stuff : \", re.search(\"\\\\\\\\stuff\", randstr))\n",
    "\n",
    "print(\"Find \\\\stuff : \", re.search(r\"\\\\stuff\", randstr))\n"
   ]
  },
  {
   "cell_type": "code",
   "execution_count": 13,
   "metadata": {},
   "outputs": [
    {
     "name": "stdout",
     "output_type": "stream",
     "text": [
      "Matches : 2\n",
      "Matches : ['F.B.I', 'I.R.S']\n"
     ]
    },
    {
     "name": "stderr",
     "output_type": "stream",
     "text": [
      "<>:5: SyntaxWarning: invalid escape sequence '\\.'\n",
      "<>:6: SyntaxWarning: invalid escape sequence '\\.'\n",
      "<>:5: SyntaxWarning: invalid escape sequence '\\.'\n",
      "<>:6: SyntaxWarning: invalid escape sequence '\\.'\n",
      "C:\\Users\\theni\\AppData\\Local\\Temp\\ipykernel_11244\\119504526.py:5: SyntaxWarning: invalid escape sequence '\\.'\n",
      "  print(\"Matches :\", len(re.findall(\".\\..\\..\",randstr)))\n",
      "C:\\Users\\theni\\AppData\\Local\\Temp\\ipykernel_11244\\119504526.py:6: SyntaxWarning: invalid escape sequence '\\.'\n",
      "  print(\"Matches :\", re.findall(\".\\..\\..\",randstr))\n"
     ]
    }
   ],
   "source": [
    "import re \n",
    "\n",
    "randstr = \"F.B.I. I.R.S. CIA\"\n",
    "\n",
    "print(\"Matches :\", len(re.findall(\".\\..\\..\",randstr)))\n",
    "print(\"Matches :\", re.findall(\".\\..\\..\",randstr))\n"
   ]
  },
  {
   "cell_type": "code",
   "execution_count": 14,
   "metadata": {},
   "outputs": [
    {
     "name": "stdout",
     "output_type": "stream",
     "text": [
      "This is a long string \n",
      "that goes on for many lines\n",
      "\n",
      "This is a long string  that goes on for many lines \n"
     ]
    }
   ],
   "source": [
    "import re \n",
    "\n",
    "randStr = \"\"\"This is a long string \n",
    "that goes on for many lines\n",
    "\"\"\"\n",
    "print(randStr)\n",
    "\n",
    "regex = re.compile(\"\\n\")\n",
    "\n",
    "randStr = regex.sub(\" \", randStr)\n",
    "print(randStr)"
   ]
  },
  {
   "cell_type": "code",
   "execution_count": 15,
   "metadata": {},
   "outputs": [
    {
     "name": "stdout",
     "output_type": "stream",
     "text": [
      "Matches : 5\n"
     ]
    },
    {
     "name": "stderr",
     "output_type": "stream",
     "text": [
      "<>:5: SyntaxWarning: invalid escape sequence '\\d'\n",
      "<>:5: SyntaxWarning: invalid escape sequence '\\d'\n",
      "C:\\Users\\theni\\AppData\\Local\\Temp\\ipykernel_11244\\2108636304.py:5: SyntaxWarning: invalid escape sequence '\\d'\n",
      "  print(\"Matches :\", len(re.findall(\"\\d\", randstr)))\n"
     ]
    }
   ],
   "source": [
    "import re \n",
    "\n",
    "randstr = \"12345\"\n",
    "\n",
    "print(\"Matches :\", len(re.findall(\"\\d\", randstr)))"
   ]
  },
  {
   "cell_type": "code",
   "execution_count": 16,
   "metadata": {},
   "outputs": [
    {
     "name": "stdout",
     "output_type": "stream",
     "text": [
      "It is a zip code\n",
      "Matches : 3\n"
     ]
    },
    {
     "name": "stderr",
     "output_type": "stream",
     "text": [
      "<>:3: SyntaxWarning: invalid escape sequence '\\d'\n",
      "<>:8: SyntaxWarning: invalid escape sequence '\\d'\n",
      "<>:3: SyntaxWarning: invalid escape sequence '\\d'\n",
      "<>:8: SyntaxWarning: invalid escape sequence '\\d'\n",
      "C:\\Users\\theni\\AppData\\Local\\Temp\\ipykernel_11244\\1099283981.py:3: SyntaxWarning: invalid escape sequence '\\d'\n",
      "  if re.search(\"\\d{5}\", \"12345\"):\n",
      "C:\\Users\\theni\\AppData\\Local\\Temp\\ipykernel_11244\\1099283981.py:8: SyntaxWarning: invalid escape sequence '\\d'\n",
      "  print(\"Matches :\", len(re.findall(\"\\d{5,7}\", numStr)))\n"
     ]
    }
   ],
   "source": [
    "import re \n",
    "\n",
    "if re.search(\"\\d{5}\", \"12345\"):\n",
    "    print(\"It is a zip code\")\n",
    "    \n",
    "numStr = \"123 1234 12345 123456 1234567\"\n",
    "\n",
    "print(\"Matches :\", len(re.findall(\"\\d{5,7}\", numStr)))"
   ]
  },
  {
   "cell_type": "code",
   "execution_count": 17,
   "metadata": {},
   "outputs": [
    {
     "name": "stdout",
     "output_type": "stream",
     "text": [
      "It is a phone number\n",
      "It is a valid name\n"
     ]
    },
    {
     "name": "stderr",
     "output_type": "stream",
     "text": [
      "<>:5: SyntaxWarning: invalid escape sequence '\\w'\n",
      "<>:8: SyntaxWarning: invalid escape sequence '\\w'\n",
      "<>:5: SyntaxWarning: invalid escape sequence '\\w'\n",
      "<>:8: SyntaxWarning: invalid escape sequence '\\w'\n",
      "C:\\Users\\theni\\AppData\\Local\\Temp\\ipykernel_11244\\3220992612.py:5: SyntaxWarning: invalid escape sequence '\\w'\n",
      "  if re.search(\"\\w{3}-\\w{3}-\\w{4}\",phNum):\n",
      "C:\\Users\\theni\\AppData\\Local\\Temp\\ipykernel_11244\\3220992612.py:8: SyntaxWarning: invalid escape sequence '\\w'\n",
      "  if re.search(\"\\w{2,20}\",\"Ultraman\"):\n"
     ]
    }
   ],
   "source": [
    "import re \n",
    "\n",
    "phNum = \"412-555-1212\"\n",
    "\n",
    "if re.search(\"\\w{3}-\\w{3}-\\w{4}\",phNum):\n",
    "    print(\"It is a phone number\")\n",
    "    \n",
    "if re.search(\"\\w{2,20}\",\"Ultraman\"):\n",
    "    print(\"It is a valid name\")"
   ]
  },
  {
   "cell_type": "code",
   "execution_count": 19,
   "metadata": {},
   "outputs": [
    {
     "name": "stdout",
     "output_type": "stream",
     "text": [
      "It is a valid full name\n"
     ]
    },
    {
     "name": "stderr",
     "output_type": "stream",
     "text": [
      "<>:3: SyntaxWarning: invalid escape sequence '\\w'\n",
      "<>:3: SyntaxWarning: invalid escape sequence '\\w'\n",
      "C:\\Users\\theni\\AppData\\Local\\Temp\\ipykernel_11244\\2365758016.py:3: SyntaxWarning: invalid escape sequence '\\w'\n",
      "  if re.search(\"\\w{2,20}\\s\\w{2,20}\", \"Toshio Muramatsu\"):\n"
     ]
    }
   ],
   "source": [
    "import re \n",
    "\n",
    "if re.search(\"\\w{2,20}\\s\\w{2,20}\", \"Toshio Muramatsu\"):\n",
    "    print(\"It is a valid full name\")"
   ]
  },
  {
   "cell_type": "code",
   "execution_count": 20,
   "metadata": {},
   "outputs": [
    {
     "name": "stdout",
     "output_type": "stream",
     "text": [
      "Matches : 3\n",
      "Matches : ['a', 'a', 'a']\n"
     ]
    }
   ],
   "source": [
    "import re \n",
    "\n",
    "print(\"Matches :\", len(re.findall(\"a+\", \"a as ape bug\")))\n",
    "print(\"Matches :\", re.findall(\"a+\", \"a as ape bug\"))"
   ]
  },
  {
   "cell_type": "code",
   "execution_count": 21,
   "metadata": {},
   "outputs": [
    {
     "name": "stdout",
     "output_type": "stream",
     "text": [
      "Email Matches : 1\n",
      "Email Matches : ['db@aol.com']\n"
     ]
    },
    {
     "name": "stderr",
     "output_type": "stream",
     "text": [
      "<>:5: SyntaxWarning: invalid escape sequence '\\w'\n",
      "<>:6: SyntaxWarning: invalid escape sequence '\\w'\n",
      "<>:5: SyntaxWarning: invalid escape sequence '\\w'\n",
      "<>:6: SyntaxWarning: invalid escape sequence '\\w'\n",
      "C:\\Users\\theni\\AppData\\Local\\Temp\\ipykernel_11244\\1467925725.py:5: SyntaxWarning: invalid escape sequence '\\w'\n",
      "  print(\"Email Matches :\", len(re.findall(\"[\\w._%+-]{1,20}@[\\w.-]{2,20}.[A-Za-z]{2,3}\",emailList)))\n",
      "C:\\Users\\theni\\AppData\\Local\\Temp\\ipykernel_11244\\1467925725.py:6: SyntaxWarning: invalid escape sequence '\\w'\n",
      "  print(\"Email Matches :\", re.findall(\"[\\w._%+-]{1,20}@[\\w.-]{2,20}.[A-Za-z]{2,3}\",emailList))\n"
     ]
    }
   ],
   "source": [
    "import re \n",
    "\n",
    "emailList = \"db@aol.com m@.com @apple.com db@.com\"\n",
    "\n",
    "print(\"Email Matches :\", len(re.findall(\"[\\w._%+-]{1,20}@[\\w.-]{2,20}.[A-Za-z]{2,3}\",emailList)))\n",
    "print(\"Email Matches :\", re.findall(\"[\\w._%+-]{1,20}@[\\w.-]{2,20}.[A-Za-z]{2,3}\",emailList))"
   ]
  },
  {
   "cell_type": "markdown",
   "metadata": {},
   "source": [
    "Nested Dictionaries"
   ]
  },
  {
   "cell_type": "code",
   "execution_count": 22,
   "metadata": {},
   "outputs": [
    {
     "name": "stdout",
     "output_type": "stream",
     "text": [
      "{1: {'name': 'Ali', 'age': '25', 'gender': 'Male'}, 2: {'name': 'Abdu', 'age': '22', 'gender': 'Female'}}\n",
      "Ali\n",
      "25\n",
      "Male\n"
     ]
    }
   ],
   "source": [
    "people = {1: {'name': 'Ali','age':'25','gender':'Male'},\n",
    "          2:{'name': 'Abdu', 'age':'22', 'gender':'Female'}}\n",
    "\n",
    "print(people)\n",
    "\n",
    "print(people[1]['name'])\n",
    "print(people[1]['age'])\n",
    "print(people[1]['gender'])"
   ]
  },
  {
   "cell_type": "code",
   "execution_count": 23,
   "metadata": {},
   "outputs": [
    {
     "name": "stdout",
     "output_type": "stream",
     "text": [
      "{1: {'name': 'Ali', 'age': '25', 'gender': 'Male'}, 2: {'name': 'Abdu', 'age': '22', 'gender': 'Female'}, 3: {'name': 'Lisa', 'age': '24', 'sex': 'Female', 'married': 'No'}}\n"
     ]
    }
   ],
   "source": [
    "people[3] = {}\n",
    "\n",
    "people[3]['name'] = 'Lisa'\n",
    "people[3]['age'] = '24'\n",
    "people[3]['sex'] = 'Female'\n",
    "people[3]['married'] = 'No'\n",
    "\n",
    "print(people)"
   ]
  },
  {
   "cell_type": "code",
   "execution_count": 24,
   "metadata": {},
   "outputs": [
    {
     "name": "stdout",
     "output_type": "stream",
     "text": [
      "{'name': 'Peter', 'age': '29', 'gender': 'Male', 'married': 'Yes'}\n",
      "{1: {'name': 'Ali', 'age': '25', 'gender': 'Male'}, 2: {'name': 'Abdu', 'age': '22', 'gender': 'Female'}, 3: {'name': 'Lisa', 'age': '24', 'sex': 'Female', 'married': 'No'}, 4: {'name': 'Peter', 'age': '29', 'gender': 'Male', 'married': 'Yes'}}\n"
     ]
    }
   ],
   "source": [
    "people[4] = {'name':'Peter', 'age':'29','gender':'Male','married':'Yes'}\n",
    "print(people[4])\n",
    "\n",
    "print(people)"
   ]
  },
  {
   "cell_type": "code",
   "execution_count": 25,
   "metadata": {},
   "outputs": [
    {
     "name": "stdout",
     "output_type": "stream",
     "text": [
      "{'name': 'Lisa', 'age': '24', 'sex': 'Female', 'married': 'No'}\n",
      "{'name': 'Peter', 'age': '29', 'gender': 'Male', 'married': 'Yes'}\n",
      "{'name': 'Lisa', 'age': '24', 'sex': 'Female'}\n",
      "{'name': 'Peter', 'age': '29', 'gender': 'Male'}\n"
     ]
    }
   ],
   "source": [
    "print(people[3])\n",
    "print(people[4])\n",
    "\n",
    "del people[3]['married']\n",
    "del people[4]['married']\n",
    "\n",
    "print(people[3])\n",
    "print(people[4])"
   ]
  },
  {
   "cell_type": "code",
   "execution_count": 26,
   "metadata": {},
   "outputs": [
    {
     "name": "stdout",
     "output_type": "stream",
     "text": [
      "{1: {'name': 'Ali', 'age': '25', 'gender': 'Male'}, 2: {'name': 'Abdu', 'age': '22', 'gender': 'Female'}, 3: {'name': 'Lisa', 'age': '24', 'sex': 'Female', 'married': 'No'}, 4: {'name': 'Peter', 'age': '29', 'gender': 'Male', 'married': 'Yes'}}\n",
      "{1: {'name': 'Ali', 'age': '25', 'gender': 'Male'}, 2: {'name': 'Abdu', 'age': '22', 'gender': 'Female'}}\n"
     ]
    }
   ],
   "source": [
    "people = {\n",
    "    1: {'name': 'Ali','age':'25','gender':'Male'},\n",
    "          2:{'name': 'Abdu', 'age':'22', 'gender':'Female'},\n",
    "          3: {'name': 'Lisa', 'age': '24', 'sex': 'Female', 'married': 'No'},\n",
    "          4:{'name':'Peter', 'age':'29','gender':'Male','married':'Yes'}\n",
    "          \n",
    "}\n",
    "print(people)\n",
    "\n",
    "del people[3], people[4]\n",
    "print(people)\n",
    "\n"
   ]
  },
  {
   "cell_type": "code",
   "execution_count": 27,
   "metadata": {},
   "outputs": [
    {
     "name": "stdout",
     "output_type": "stream",
     "text": [
      "dict_items([(1, {'name': 'Ali', 'age': '25', 'gender': 'Male'}), (2, {'name': 'Abdu', 'age': '22', 'gender': 'Female'})])\n",
      "\n",
      "Person ID: 1\n",
      "name: Ali\n",
      "age: 25\n",
      "gender: Male\n",
      "\n",
      "Person ID: 2\n",
      "name: Abdu\n",
      "age: 22\n",
      "gender: Female\n"
     ]
    }
   ],
   "source": [
    "print(people.items())\n",
    "\n",
    "for p_id, p_info in people.items():\n",
    "    print(\"\\nPerson ID:\", p_id)\n",
    "    \n",
    "    for key in p_info:\n",
    "        print(key + ':', p_info[key])"
   ]
  }
 ],
 "metadata": {
  "kernelspec": {
   "display_name": "Python 3",
   "language": "python",
   "name": "python3"
  },
  "language_info": {
   "codemirror_mode": {
    "name": "ipython",
    "version": 3
   },
   "file_extension": ".py",
   "mimetype": "text/x-python",
   "name": "python",
   "nbconvert_exporter": "python",
   "pygments_lexer": "ipython3",
   "version": "3.12.6"
  }
 },
 "nbformat": 4,
 "nbformat_minor": 2
}
