{
 "cells": [
  {
   "cell_type": "code",
   "execution_count": 3,
   "metadata": {},
   "outputs": [
    {
     "name": "stdout",
     "output_type": "stream",
     "text": [
      "id(2) = 140706208090584\n",
      "id(a) = 140706208090616\n",
      "id(3) = 140706208090616\n"
     ]
    }
   ],
   "source": [
    "a= 2\n",
    "print('id(2) =', id(2)) \n",
    "a=a+1\n",
    "print('id(a) =',id(a))\n",
    "b =2\n",
    "print('id(2) =', id(b))\n",
    "print('id(3) =', id(3))\n"
   ]
  },
  {
   "cell_type": "code",
   "execution_count": 5,
   "metadata": {},
   "outputs": [
    {
     "name": "stdout",
     "output_type": "stream",
     "text": [
      "a = 10\n",
      "a = 30\n",
      "a = 30\n",
      "a = 30\n"
     ]
    }
   ],
   "source": [
    "def outer():\n",
    "    global a \n",
    "    a=20\n",
    "    \n",
    "    def inner():\n",
    "        global a\n",
    "        a= 30\n",
    "        print('a =',a)\n",
    "        \n",
    "    inner()\n",
    "    print('a =', a)\n",
    "    \n",
    "a=10\n",
    "print('a =',a)\n",
    "outer()\n",
    "print('a =', a)"
   ]
  },
  {
   "cell_type": "code",
   "execution_count": 1,
   "metadata": {},
   "outputs": [
    {
     "name": "stdout",
     "output_type": "stream",
     "text": [
      "datatype: <class 'int'>\n",
      "data type of float  <class 'float'>\n",
      "Value of new num 447.4\n",
      "datatype of it is: <class 'float'>\n"
     ]
    }
   ],
   "source": [
    "num = 123 \n",
    "float = 324.4\n",
    "new = num + float \n",
    "\n",
    "print(\"datatype:\",type(num))\n",
    "print(\"data type of float \", type(float))\n",
    "\n",
    "print(\"Value of new num\",new)\n",
    "print(\"datatype of it is:\",type(new))"
   ]
  },
  {
   "cell_type": "code",
   "execution_count": 2,
   "metadata": {},
   "outputs": [
    {
     "name": "stdout",
     "output_type": "stream",
     "text": [
      "<class 'int'>\n",
      "<class 'str'>\n"
     ]
    }
   ],
   "source": [
    "int = 123\n",
    "str = \"234\"\n",
    "\n",
    "print(type(int))\n",
    "print(type(str))\n"
   ]
  },
  {
   "cell_type": "code",
   "execution_count": 6,
   "metadata": {},
   "outputs": [
    {
     "name": "stdout",
     "output_type": "stream",
     "text": [
      "123\n"
     ]
    },
    {
     "ename": "TypeError",
     "evalue": "'int' object is not callable",
     "output_type": "error",
     "traceback": [
      "\u001b[1;31m---------------------------------------------------------------------------\u001b[0m",
      "\u001b[1;31mTypeError\u001b[0m                                 Traceback (most recent call last)",
      "Cell \u001b[1;32mIn[6], line 4\u001b[0m\n\u001b[0;32m      2\u001b[0m nstr \u001b[38;5;241m=\u001b[39m \u001b[38;5;124m\"\u001b[39m\u001b[38;5;124m234\u001b[39m\u001b[38;5;124m\"\u001b[39m\n\u001b[0;32m      3\u001b[0m \u001b[38;5;28mprint\u001b[39m(intd)\n\u001b[1;32m----> 4\u001b[0m nstr \u001b[38;5;241m=\u001b[39m \u001b[38;5;28;43mint\u001b[39;49m\u001b[43m(\u001b[49m\u001b[43mnstr\u001b[49m\u001b[43m)\u001b[49m\n\u001b[0;32m      5\u001b[0m \u001b[38;5;28mprint\u001b[39m(\u001b[38;5;28mtype\u001b[39m(nstr))\n\u001b[0;32m      7\u001b[0m \u001b[38;5;28msum\u001b[39m \u001b[38;5;241m=\u001b[39m intd\u001b[38;5;241m+\u001b[39m\u001b[38;5;28mstr\u001b[39m\n",
      "\u001b[1;31mTypeError\u001b[0m: 'int' object is not callable"
     ]
    }
   ],
   "source": [
    "intd = 123\n",
    "nstr = \"234\"\n",
    "print(intd)\n",
    "nstr = int(nstr)\n",
    "print(type(nstr))\n",
    "\n",
    "sum = intd+str\n",
    "print(sum)"
   ]
  },
  {
   "cell_type": "code",
   "execution_count": null,
   "metadata": {},
   "outputs": [],
   "source": [
    "# this is single line comments\n",
    "\"\"\"\n",
    "mutliline comments \n",
    "so we can add it \n",
    "too much line in it\n",
    "\n",
    "\"\"\""
   ]
  },
  {
   "cell_type": "code",
   "execution_count": 7,
   "metadata": {},
   "outputs": [],
   "source": [
    "a= 1"
   ]
  },
  {
   "cell_type": "code",
   "execution_count": null,
   "metadata": {},
   "outputs": [],
   "source": [
    "b =1+2+3+ \\\n",
    "    4+5+6 \n",
    "print(b)\n",
    "c =(1+2+3+\n",
    "    4+5+6)\n",
    "print(c)"
   ]
  },
  {
   "cell_type": "code",
   "execution_count": 9,
   "metadata": {},
   "outputs": [
    {
     "name": "stdout",
     "output_type": "stream",
     "text": [
      "1 3 0\n"
     ]
    }
   ],
   "source": [
    "d =1; e = 3 ;  f =0\n",
    "print(d,e,f)"
   ]
  },
  {
   "cell_type": "code",
   "execution_count": 8,
   "metadata": {},
   "outputs": [
    {
     "name": "stdout",
     "output_type": "stream",
     "text": [
      "1\n",
      "2\n",
      "3\n",
      "4\n",
      "5\n",
      "At th e end of lines\n"
     ]
    }
   ],
   "source": [
    "for i in range(1,11):\n",
    "    print(i)\n",
    "    if i==5:\n",
    "        break \n",
    "print(f\"At th e end of lines\")"
   ]
  }
 ],
 "metadata": {
  "kernelspec": {
   "display_name": "Python 3",
   "language": "python",
   "name": "python3"
  },
  "language_info": {
   "codemirror_mode": {
    "name": "ipython",
    "version": 3
   },
   "file_extension": ".py",
   "mimetype": "text/x-python",
   "name": "python",
   "nbconvert_exporter": "python",
   "pygments_lexer": "ipython3",
   "version": "3.12.6"
  }
 },
 "nbformat": 4,
 "nbformat_minor": 2
}
