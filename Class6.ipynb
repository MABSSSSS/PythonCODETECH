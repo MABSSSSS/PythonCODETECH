{
 "cells": [
  {
   "cell_type": "code",
   "execution_count": 2,
   "metadata": {},
   "outputs": [
    {
     "name": "stdout",
     "output_type": "stream",
     "text": [
      "c:\\Users\\theni\\Desktop\\c\n",
      "b'c:\\\\Users\\\\theni\\\\Desktop\\\\c'\n"
     ]
    }
   ],
   "source": [
    "import os\n",
    "print(os.getcwd())\n",
    "print(os.getcwdb())"
   ]
  },
  {
   "cell_type": "code",
   "execution_count": 3,
   "metadata": {},
   "outputs": [
    {
     "name": "stdout",
     "output_type": "stream",
     "text": [
      "['.git', 'Class3.ipynb', 'Class4.ipynb', 'Class5.ipynb', 'Class6.ipynb', 'python', 'Readme.md']\n"
     ]
    }
   ],
   "source": [
    "os.chdir('c:\\\\Users\\\\theni\\\\Desktop\\\\c')\n",
    "print(os.listdir())"
   ]
  },
  {
   "cell_type": "code",
   "execution_count": 4,
   "metadata": {},
   "outputs": [],
   "source": [
    "os.mkdir('Test')"
   ]
  },
  {
   "cell_type": "code",
   "execution_count": 5,
   "metadata": {},
   "outputs": [],
   "source": [
    "os.rename('Test','NEW_ONE')"
   ]
  },
  {
   "cell_type": "code",
   "execution_count": 7,
   "metadata": {},
   "outputs": [],
   "source": [
    "\n",
    "os.rmdir('NEW_ONE')"
   ]
  },
  {
   "cell_type": "code",
   "execution_count": 8,
   "metadata": {},
   "outputs": [],
   "source": [
    "os.chdir('c:\\\\Users\\\\theni\\\\Desktop\\\\c')"
   ]
  },
  {
   "cell_type": "markdown",
   "metadata": {},
   "source": [
    "python input,output functions"
   ]
  },
  {
   "cell_type": "code",
   "execution_count": 9,
   "metadata": {},
   "outputs": [
    {
     "name": "stdout",
     "output_type": "stream",
     "text": [
      "5 5\n",
      "1 2 3 4 5\n"
     ]
    }
   ],
   "source": [
    "a =5\n",
    "print('Output screen')\n",
    "print(a,5)\n",
    "print(1,2,3,4,5)\n",
    "\n"
   ]
  },
  {
   "cell_type": "code",
   "execution_count": 11,
   "metadata": {},
   "outputs": [
    {
     "name": "stdout",
     "output_type": "stream",
     "text": [
      "1*2*3*4\n",
      "1*2*3*4&\n",
      "I love bread and butter\n",
      "I love butter and bread\n"
     ]
    }
   ],
   "source": [
    "print(1,2,3,4,sep='*')\n",
    "\n",
    "print(1,2,3,4, sep='*', end='&')\n",
    "\n",
    "print('\\nI love {0} and {1}' .format ('bread','butter'))\n",
    "print('I love {1} and {0}' .format ('bread','butter'))\n"
   ]
  },
  {
   "cell_type": "code",
   "execution_count": 13,
   "metadata": {},
   "outputs": [
    {
     "name": "stdout",
     "output_type": "stream",
     "text": [
      "3\n"
     ]
    }
   ],
   "source": [
    "x = input('Please enter any number :')\n",
    "\n",
    "print(x)\n",
    "\n"
   ]
  },
  {
   "cell_type": "code",
   "execution_count": 14,
   "metadata": {},
   "outputs": [
    {
     "name": "stdout",
     "output_type": "stream",
     "text": [
      "9.0\n"
     ]
    }
   ],
   "source": [
    "import math \n",
    "print(math.pow(int(x),2))"
   ]
  },
  {
   "cell_type": "markdown",
   "metadata": {},
   "source": [
    "Pass statments "
   ]
  },
  {
   "cell_type": "code",
   "execution_count": 15,
   "metadata": {},
   "outputs": [
    {
     "name": "stdout",
     "output_type": "stream",
     "text": [
      "End of the program...\n"
     ]
    }
   ],
   "source": [
    "seq ={'a','p','s','q'}\n",
    "\n",
    "for val in seq:\n",
    "    pass\n",
    "print(\"End of the program...\")"
   ]
  },
  {
   "cell_type": "markdown",
   "metadata": {},
   "source": [
    "Essentials"
   ]
  },
  {
   "cell_type": "code",
   "execution_count": 16,
   "metadata": {},
   "outputs": [
    {
     "name": "stdout",
     "output_type": "stream",
     "text": [
      "Global x = global\n",
      "globalglobal\n",
      "local\n",
      "Globalx = globalglobal\n"
     ]
    }
   ],
   "source": [
    "x ='global'\n",
    "def func():\n",
    "    global x \n",
    "    y =\"local\"\n",
    "    x =x *2 \n",
    "    print(x)\n",
    "    \n",
    "    print(y)\n",
    "    \n",
    "print(\"Global x =\", x)\n",
    "func()\n",
    "print(\"Globalx =\",x)"
   ]
  },
  {
   "cell_type": "code",
   "execution_count": 17,
   "metadata": {},
   "outputs": [
    {
     "name": "stdout",
     "output_type": "stream",
     "text": [
      "global a: 5\n",
      "local a: 10\n",
      "global a: 5\n"
     ]
    }
   ],
   "source": [
    "a =5\n",
    "def fun():\n",
    "    a =10\n",
    "    print(\"local a:\",a)\n",
    "    \n",
    "print(\"global a:\",a)\n",
    "fun()\n",
    "print('global a:', a)"
   ]
  },
  {
   "cell_type": "code",
   "execution_count": 18,
   "metadata": {},
   "outputs": [
    {
     "name": "stdout",
     "output_type": "stream",
     "text": [
      "inner nonlocal\n",
      "Outer : nonlocal\n"
     ]
    }
   ],
   "source": [
    "def outer():\n",
    "    x =\"local\"\n",
    "    def inner():\n",
    "        nonlocal x\n",
    "        x = \"nonlocal\"\n",
    "        print(\"inner\", x)\n",
    "        \n",
    "    inner()\n",
    "    print(\"Outer :\", x)\n",
    "    \n",
    "outer()"
   ]
  }
 ],
 "metadata": {
  "kernelspec": {
   "display_name": "Python 3",
   "language": "python",
   "name": "python3"
  },
  "language_info": {
   "codemirror_mode": {
    "name": "ipython",
    "version": 3
   },
   "file_extension": ".py",
   "mimetype": "text/x-python",
   "name": "python",
   "nbconvert_exporter": "python",
   "pygments_lexer": "ipython3",
   "version": "3.12.6"
  }
 },
 "nbformat": 4,
 "nbformat_minor": 2
}
