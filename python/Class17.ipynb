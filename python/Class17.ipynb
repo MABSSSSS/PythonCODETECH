{
 "cells": [
  {
   "cell_type": "code",
   "execution_count": 1,
   "metadata": {},
   "outputs": [
    {
     "name": "stdout",
     "output_type": "stream",
     "text": [
      "<class 'int'>\n",
      "True\n",
      "False\n",
      "False\n"
     ]
    }
   ],
   "source": [
    "value1 = 100 \n",
    "print(type(value1))\n",
    "print(isinstance(value1,int))\n",
    "print(isinstance(value1,float))\n",
    "print(isinstance(value1,complex))"
   ]
  },
  {
   "cell_type": "code",
   "execution_count": 2,
   "metadata": {},
   "outputs": [
    {
     "name": "stdout",
     "output_type": "stream",
     "text": [
      "<class 'float'>\n",
      "False\n",
      "True\n",
      "False\n"
     ]
    }
   ],
   "source": [
    "value2 = 100.24\n",
    "print(type(value2))\n",
    "print(isinstance(value2,int))\n",
    "print(isinstance(value2,float))\n",
    "print(isinstance(value2,complex))"
   ]
  },
  {
   "cell_type": "code",
   "execution_count": 3,
   "metadata": {},
   "outputs": [
    {
     "name": "stdout",
     "output_type": "stream",
     "text": [
      "<class 'complex'>\n",
      "False\n",
      "False\n",
      "True\n"
     ]
    }
   ],
   "source": [
    "value3 = 100 + 6j \n",
    "print(type(value3))\n",
    "print(isinstance(value3,int))\n",
    "print(isinstance(value3,float))\n",
    "print(isinstance(value3,complex))"
   ]
  },
  {
   "cell_type": "code",
   "execution_count": 4,
   "metadata": {},
   "outputs": [
    {
     "name": "stdout",
     "output_type": "stream",
     "text": [
      "13\n",
      "171\n",
      "19\n"
     ]
    }
   ],
   "source": [
    "print(0b1101)\n",
    "print(0xab)\n",
    "print(0o23)"
   ]
  },
  {
   "cell_type": "code",
   "execution_count": 5,
   "metadata": {},
   "outputs": [
    {
     "name": "stdout",
     "output_type": "stream",
     "text": [
      "43.4\n"
     ]
    }
   ],
   "source": [
    "print(10 + 33.4)"
   ]
  },
  {
   "cell_type": "code",
   "execution_count": 7,
   "metadata": {},
   "outputs": [
    {
     "name": "stdout",
     "output_type": "stream",
     "text": [
      "9\n",
      "-9\n",
      "9.5\n"
     ]
    }
   ],
   "source": [
    "print(int(9.5))\n",
    "print(int(-9.5))\n",
    "print(float(9.5))"
   ]
  },
  {
   "cell_type": "code",
   "execution_count": 8,
   "metadata": {},
   "outputs": [
    {
     "name": "stdout",
     "output_type": "stream",
     "text": [
      "0.2\n",
      "0.200000000000000011102230246251565404236316680908203125\n",
      "0.299999999999999988897769753748434595763683319091796875\n"
     ]
    }
   ],
   "source": [
    "from decimal import Decimal as D\n",
    "import decimal \n",
    "print(0.2)\n",
    "print(D(0.2))\n",
    "print(decimal.Decimal(0.3))"
   ]
  },
  {
   "cell_type": "code",
   "execution_count": 9,
   "metadata": {},
   "outputs": [
    {
     "name": "stdout",
     "output_type": "stream",
     "text": [
      "3/2\n",
      "5\n",
      "1/5\n"
     ]
    }
   ],
   "source": [
    "from fractions import Fraction as F \n",
    "print(F(1.5))\n",
    "print(F(5))\n",
    "print(F(1,5))\n"
   ]
  },
  {
   "cell_type": "code",
   "execution_count": 11,
   "metadata": {},
   "outputs": [
    {
     "name": "stdout",
     "output_type": "stream",
     "text": [
      "3.141592653589793\n",
      "-0.8390715290764524\n",
      "2.302585092994046\n",
      "1.0\n",
      "22026.465794806718\n",
      "120\n",
      "11013.232874703393\n",
      "12.34\n"
     ]
    }
   ],
   "source": [
    "import math \n",
    "print(math.pi)\n",
    "print(math.cos(10))\n",
    "print(math.log(10))\n",
    "print(math.log10(10))\n",
    "print(math.exp(10))\n",
    "print(math.factorial(5))\n",
    "print(math.sinh(10))\n",
    "print(abs(-12.34))"
   ]
  },
  {
   "cell_type": "code",
   "execution_count": 23,
   "metadata": {},
   "outputs": [
    {
     "name": "stdout",
     "output_type": "stream",
     "text": [
      "Random number -> 7\n",
      "Random number -> 11\n",
      "Random number -> 9\n",
      "Random number -> 13\n",
      "Sat\n",
      "['Sun', 'Mon', 'Tue', 'Wed', 'Thu', 'Fri', 'Sat']\n",
      "['Mon', 'Sat', 'Fri', 'Thu', 'Tue', 'Wed', 'Sun']\n",
      "0.13275788406022093\n"
     ]
    }
   ],
   "source": [
    "import random \n",
    "print('Random number ->',random.randrange(5,15))\n",
    "print('Random number ->',random.randrange(5,15))\n",
    "print('Random number ->',random.randrange(5,15))\n",
    "print('Random number ->',random.randrange(5,15))\n",
    "\n",
    "day =['Sun','Mon','Tue','Wed','Thu','Fri','Sat']\n",
    "print(random.choice(day))\n",
    "\n",
    "print(day)\n",
    "random.shuffle(day)\n",
    "print(day)\n",
    "print(random.random())"
   ]
  },
  {
   "cell_type": "code",
   "execution_count": null,
   "metadata": {},
   "outputs": [],
   "source": []
  }
 ],
 "metadata": {
  "kernelspec": {
   "display_name": "Python 3",
   "language": "python",
   "name": "python3"
  },
  "language_info": {
   "codemirror_mode": {
    "name": "ipython",
    "version": 3
   },
   "file_extension": ".py",
   "mimetype": "text/x-python",
   "name": "python",
   "nbconvert_exporter": "python",
   "pygments_lexer": "ipython3",
   "version": "3.12.6"
  }
 },
 "nbformat": 4,
 "nbformat_minor": 2
}
