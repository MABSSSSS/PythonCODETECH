{
 "cells": [
  {
   "cell_type": "code",
   "execution_count": 1,
   "metadata": {},
   "outputs": [
    {
     "name": "stdout",
     "output_type": "stream",
     "text": [
      "Age printed 5\n"
     ]
    }
   ],
   "source": [
    "age = int(input(\"Please enter the age:\"))\n",
    "if age< 5:\n",
    "    print(\"Too young\")\n",
    "    \n",
    "elif age ==5:\n",
    "    print(\"Age printed 5\")\n",
    "elif ((age>5) and (age <=17)):\n",
    "    grade = age-5\n",
    "    print(\"Go to {} grade\".format(grade))\n",
    "    \n",
    "else:\n",
    "    print(\"Go to college\")"
   ]
  },
  {
   "cell_type": "code",
   "execution_count": 4,
   "metadata": {},
   "outputs": [
    {
     "name": "stdout",
     "output_type": "stream",
     "text": [
      "Positve number\n"
     ]
    }
   ],
   "source": [
    "num = float(input(\"Enter a number:\"))\n",
    "if num >=0:\n",
    "    if num == 0:\n",
    "        print(\"Zero\")\n",
    "    else:\n",
    "        print(\"Positve number\")\n",
    "else:\n",
    "    print(\"Negative numnber\")"
   ]
  },
  {
   "cell_type": "markdown",
   "metadata": {},
   "source": [
    "user defined exceptions:"
   ]
  },
  {
   "cell_type": "code",
   "execution_count": 8,
   "metadata": {},
   "outputs": [
    {
     "name": "stdout",
     "output_type": "stream",
     "text": [
      "Age is 12\n",
      "Age is less than 18\n",
      "End of the program\n"
     ]
    }
   ],
   "source": [
    "class Voters(Exception):\n",
    "    def __init__(self):\n",
    "        super()\n",
    "        \n",
    "try:\n",
    "    age = 12\n",
    "    print(\"Age is \"+str(age))\n",
    "    if age < 18:\n",
    "        raise Voters() \n",
    "except Voters:\n",
    "    print(\"Age is less than 18\")\n",
    "else:\n",
    "    print(\"Age greator than 18\")\n",
    "    \n",
    "finally:\n",
    "    print(\"End of the program\")"
   ]
  }
 ],
 "metadata": {
  "kernelspec": {
   "display_name": "Python 3",
   "language": "python",
   "name": "python3"
  },
  "language_info": {
   "codemirror_mode": {
    "name": "ipython",
    "version": 3
   },
   "file_extension": ".py",
   "mimetype": "text/x-python",
   "name": "python",
   "nbconvert_exporter": "python",
   "pygments_lexer": "ipython3",
   "version": "3.12.6"
  }
 },
 "nbformat": 4,
 "nbformat_minor": 2
}
