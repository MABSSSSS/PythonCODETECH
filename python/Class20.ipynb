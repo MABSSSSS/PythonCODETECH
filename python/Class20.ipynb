{
 "cells": [
  {
   "cell_type": "code",
   "execution_count": 2,
   "metadata": {},
   "outputs": [
    {
     "name": "stdout",
     "output_type": "stream",
     "text": [
      "my first file\n",
      "This is file\n",
      "contains three lines \n",
      "\n",
      "52\n",
      "my first file\n",
      "\n",
      "['This is file\\n', 'contains three lines \\n']\n"
     ]
    }
   ],
   "source": [
    "f =open(\"example.txt\", 'w')\n",
    "# f =open(\"example.txt\", 'w')\n",
    "f.close()\n",
    "# f.close()\n",
    "try:\n",
    "    f =open(\"example.txt\" , encoding='utf-8')\n",
    "    # try:\n",
    "    # f =open(\"example.txt\", ec=ncoding ='utf-8')\n",
    "finally:\n",
    "    f.close()\n",
    "    # finally:\n",
    "    # f.close()\n",
    "    # f=open(\"example.txt\" , encoding =''utf-8)\n",
    "    # //UTF is Unicode Transformation Format \n",
    "    \n",
    "with open(\"example.txt\", 'w', encoding ='utf-8') as f:\n",
    "    f.write(\"my first file\\n\")\n",
    "    f.write(\"This is file\\n\")\n",
    "    f.write(\"contains three lines \\n\")\n",
    "    f.close()\n",
    "    # with open(\"example.txt\", 'w', encoding ='utf-8' ) as f:\n",
    "    # f.write(\"first title\")\n",
    "    # f.write('thsi file wirting ')\n",
    "    # f.close()\n",
    "    \n",
    "with open(\"example.txt\" , 'r', encoding='utf-8') as f:\n",
    "    print(f.read())\n",
    "    print(f.tell())\n",
    "    f.seek(0)\n",
    "    print(f.readline())\n",
    "    print(f.readlines())\n",
    "    f.close()\n",
    "    \n",
    "    # with open(\"example.txt\" ,'r', encoding ='utf-8' ) as f:\n",
    "    # print(f.read())\n",
    "    # print(f.tell())\n",
    "    # f.seek(0)\n",
    "    # print(f.readline())\n",
    "    # print(f.readlines()\n",
    "        #   f.close)\n",
    "    "
   ]
  },
  {
   "cell_type": "code",
   "execution_count": 3,
   "metadata": {},
   "outputs": [],
   "source": [
    "class myBird:\n",
    "    \n",
    "    def __init__(self):\n",
    "        print(\"mybird class constructor is executing..\")\n",
    "        \n",
    "    def type(self):\n",
    "        print(\"I ma a bird...\")\n",
    "        \n",
    "    def swim(self):\n",
    "        print(\"O can swim\")"
   ]
  },
  {
   "cell_type": "code",
   "execution_count": 4,
   "metadata": {},
   "outputs": [],
   "source": [
    "class mypenguin(myBird):\n",
    "    \n",
    "    def __init__(self):\n",
    "        super().__init__()\n",
    "        print(\"penguin constrcutor is executing...\")\n",
    "        \n",
    "    def who(self):\n",
    "        print(\"I am penguin...\")\n",
    "        \n",
    "    def can(self):\n",
    "        print(\"I can run faster\")\n",
    "        "
   ]
  },
  {
   "cell_type": "code",
   "execution_count": 5,
   "metadata": {},
   "outputs": [
    {
     "name": "stdout",
     "output_type": "stream",
     "text": [
      "mybird class constructor is executing..\n",
      "penguin constrcutor is executing...\n",
      "I ma a bird...\n",
      "O can swim\n",
      "I am penguin...\n",
      "I can run faster\n"
     ]
    }
   ],
   "source": [
    "pg1 = mypenguin()\n",
    "\n",
    "pg1.type()\n",
    "pg1.swim()\n",
    "pg1.who()\n",
    "pg1.can()"
   ]
  },
  {
   "cell_type": "code",
   "execution_count": 6,
   "metadata": {},
   "outputs": [],
   "source": [
    "class my:\n",
    "    def fly(self):\n",
    "        print(\"fly\")\n",
    "        \n",
    "    def swim(self):\n",
    "        print(\"Cant fly\")"
   ]
  },
  {
   "cell_type": "code",
   "execution_count": 7,
   "metadata": {},
   "outputs": [],
   "source": [
    "def bird_test(bird):\n",
    "    bird.fly()\n",
    "    bird.swim()"
   ]
  },
  {
   "cell_type": "code",
   "execution_count": 8,
   "metadata": {},
   "outputs": [
    {
     "name": "stdout",
     "output_type": "stream",
     "text": [
      "mybird class constructor is executing..\n",
      "penguin constrcutor is executing...\n"
     ]
    }
   ],
   "source": [
    "bird_parrot =my()\n",
    "bird_penguin =mypenguin()\n",
    "\n",
    "\n"
   ]
  },
  {
   "cell_type": "code",
   "execution_count": 12,
   "metadata": {},
   "outputs": [
    {
     "name": "stdout",
     "output_type": "stream",
     "text": [
      "This is printed first\n",
      "This is printed second\n",
      "This is printed at last \n",
      "\n",
      "Using for loop...\n",
      "\n",
      "This is printed first\n",
      "1\n",
      "This is printed second\n",
      "2\n",
      "This is printed at last \n",
      "3\n"
     ]
    }
   ],
   "source": [
    "def my_gen():\n",
    "    n=1\n",
    "    print(\"This is printed first\")\n",
    "    \n",
    "    yield n \n",
    "    \n",
    "    n+= 1 \n",
    "    print('This is printed second')\n",
    "    yield n \n",
    "    \n",
    "    n+=1 \n",
    "    print('This is printed at last ')\n",
    "    yield n \n",
    "    \n",
    "a =my_gen()\n",
    "next(a)\n",
    "next(a)\n",
    "next(a)\n",
    "\n",
    "print('\\nUsing for loop...\\n')\n",
    "\n",
    "for item in my_gen():\n",
    "    print(item)"
   ]
  },
  {
   "cell_type": "code",
   "execution_count": 13,
   "metadata": {},
   "outputs": [
    {
     "name": "stdout",
     "output_type": "stream",
     "text": [
      "D\n",
      "L\n",
      "R\n",
      "O\n",
      "W\n"
     ]
    }
   ],
   "source": [
    "def reverse(my_string):\n",
    "    length = len(my_string)\n",
    "    \n",
    "    for i in range(length -1, -1, -1):\n",
    "        yield my_string[i]\n",
    "        \n",
    "for char in reverse(\"WORLD\"):\n",
    "    print(char)"
   ]
  },
  {
   "cell_type": "code",
   "execution_count": 14,
   "metadata": {},
   "outputs": [],
   "source": [
    "class Bse1:\n",
    "    pass \n",
    "class Bse2:\n",
    "    pass \n",
    "class Multi(Bse1, Bse2):\n",
    "    pass "
   ]
  },
  {
   "cell_type": "code",
   "execution_count": 15,
   "metadata": {},
   "outputs": [],
   "source": [
    "class Bse1:\n",
    "    def func(self):\n",
    "        print(\"Bse1() is executing...\")\n",
    "class Bse2:\n",
    "    def func2(self):\n",
    "        print(\"Bse2() is executing...\")\n",
    "class Bse3:\n",
    "    def func3(self):\n",
    "        print(\"Bse3() is executing...\")\n",
    "class Multi(Bse1, Bse2, Bse3):\n",
    "    def funcMlti(self):\n",
    "        print(\"FuncMlti() is executing...\" )"
   ]
  },
  {
   "cell_type": "code",
   "execution_count": 16,
   "metadata": {},
   "outputs": [
    {
     "name": "stdout",
     "output_type": "stream",
     "text": [
      "Bse1() is executing...\n",
      "Bse2() is executing...\n",
      "Bse3() is executing...\n",
      "FuncMlti() is executing...\n"
     ]
    }
   ],
   "source": [
    "md1 =Multi()\n",
    "md1.func()\n",
    "md1.func2()\n",
    "md1.func3()\n",
    "md1.funcMlti()"
   ]
  }
 ],
 "metadata": {
  "kernelspec": {
   "display_name": "Python 3",
   "language": "python",
   "name": "python3"
  },
  "language_info": {
   "codemirror_mode": {
    "name": "ipython",
    "version": 3
   },
   "file_extension": ".py",
   "mimetype": "text/x-python",
   "name": "python",
   "nbconvert_exporter": "python",
   "pygments_lexer": "ipython3",
   "version": "3.12.7"
  }
 },
 "nbformat": 4,
 "nbformat_minor": 2
}
