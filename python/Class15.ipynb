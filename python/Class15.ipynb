{
 "cells": [
  {
   "cell_type": "code",
   "execution_count": 2,
   "metadata": {},
   "outputs": [],
   "source": [
    "class My:\n",
    "    def __init__(self,real=0,imag = 0):\n",
    "        print(\"Complex number constructing\")\n",
    "        self.real_aprt = real \n",
    "        self.imag_part = imag \n",
    "        \n",
    "    def display(self):\n",
    "        print(\"{0} + {1}j\".format(self.real_part,self.imag_part))\n",
    "        "
   ]
  },
  {
   "cell_type": "code",
   "execution_count": 5,
   "metadata": {},
   "outputs": [
    {
     "name": "stdout",
     "output_type": "stream",
     "text": [
      "Complex number constructing\n",
      "<__main__.My object at 0x000002475CE3BD70>\n"
     ]
    }
   ],
   "source": [
    "cmplx1 =My(40,50)\n",
    "\n",
    "print(cmplx1)"
   ]
  },
  {
   "cell_type": "code",
   "execution_count": 6,
   "metadata": {},
   "outputs": [
    {
     "name": "stdout",
     "output_type": "stream",
     "text": [
      "Complex number constructing\n"
     ]
    },
    {
     "ename": "AttributeError",
     "evalue": "'My' object has no attribute 'real_part'",
     "output_type": "error",
     "traceback": [
      "\u001b[1;31m---------------------------------------------------------------------------\u001b[0m",
      "\u001b[1;31mAttributeError\u001b[0m                            Traceback (most recent call last)",
      "Cell \u001b[1;32mIn[6], line 4\u001b[0m\n\u001b[0;32m      1\u001b[0m cmplx2 \u001b[38;5;241m=\u001b[39m My(\u001b[38;5;241m60\u001b[39m,\u001b[38;5;241m70\u001b[39m)\n\u001b[0;32m      2\u001b[0m cmplx2\u001b[38;5;241m.\u001b[39mnew_attributes \u001b[38;5;241m=\u001b[39m \u001b[38;5;241m80\u001b[39m\n\u001b[1;32m----> 4\u001b[0m \u001b[38;5;28mprint\u001b[39m((\u001b[43mcmplx2\u001b[49m\u001b[38;5;241;43m.\u001b[39;49m\u001b[43mreal_part\u001b[49m, cmplx2\u001b[38;5;241m.\u001b[39mimag_part, cmplx2\u001b[38;5;241m.\u001b[39mnew_attribute))\n",
      "\u001b[1;31mAttributeError\u001b[0m: 'My' object has no attribute 'real_part'"
     ]
    }
   ],
   "source": [
    "cmplx2 = My(60,70)\n",
    "cmplx2.new_attributes = 80\n",
    "\n",
    "print((cmplx2.real_part, cmplx2.imag_part, cmplx2.new_attribute))"
   ]
  },
  {
   "cell_type": "code",
   "execution_count": 7,
   "metadata": {},
   "outputs": [
    {
     "ename": "AttributeError",
     "evalue": "'My' object has no attribute 'new_attribute'",
     "output_type": "error",
     "traceback": [
      "\u001b[1;31m---------------------------------------------------------------------------\u001b[0m",
      "\u001b[1;31mAttributeError\u001b[0m                            Traceback (most recent call last)",
      "Cell \u001b[1;32mIn[7], line 1\u001b[0m\n\u001b[1;32m----> 1\u001b[0m \u001b[43mcmplx1\u001b[49m\u001b[38;5;241;43m.\u001b[39;49m\u001b[43mnew_attribute\u001b[49m\n",
      "\u001b[1;31mAttributeError\u001b[0m: 'My' object has no attribute 'new_attribute'"
     ]
    }
   ],
   "source": [
    "cmplx1.new_attribute"
   ]
  },
  {
   "cell_type": "code",
   "execution_count": 8,
   "metadata": {},
   "outputs": [
    {
     "name": "stdout",
     "output_type": "stream",
     "text": [
      "<__main__.My object at 0x000002475CE3BD70>\n"
     ]
    },
    {
     "ename": "AttributeError",
     "evalue": "'My' object has no attribute 'real_part'",
     "output_type": "error",
     "traceback": [
      "\u001b[1;31m---------------------------------------------------------------------------\u001b[0m",
      "\u001b[1;31mAttributeError\u001b[0m                            Traceback (most recent call last)",
      "Cell \u001b[1;32mIn[8], line 3\u001b[0m\n\u001b[0;32m      1\u001b[0m \u001b[38;5;28mprint\u001b[39m(cmplx1)\n\u001b[1;32m----> 3\u001b[0m \u001b[38;5;28;01mdel\u001b[39;00m \u001b[43mcmplx1\u001b[49m\u001b[38;5;241;43m.\u001b[39;49m\u001b[43mreal_part\u001b[49m \n\u001b[0;32m      4\u001b[0m \u001b[38;5;28;01mdel\u001b[39;00m cmplx1 \n",
      "\u001b[1;31mAttributeError\u001b[0m: 'My' object has no attribute 'real_part'"
     ]
    }
   ],
   "source": [
    "print(cmplx1)\n",
    "\n",
    "del cmplx1.real_part \n",
    "del cmplx1 "
   ]
  },
  {
   "cell_type": "code",
   "execution_count": 9,
   "metadata": {},
   "outputs": [
    {
     "name": "stdout",
     "output_type": "stream",
     "text": [
      "<__main__.My object at 0x000002475CE3BD70>\n"
     ]
    }
   ],
   "source": [
    "print(cmplx1)"
   ]
  },
  {
   "cell_type": "code",
   "execution_count": 10,
   "metadata": {},
   "outputs": [
    {
     "name": "stdout",
     "output_type": "stream",
     "text": [
      "()\n",
      "(1, 2, 3)\n",
      "(101, 'Ali', 23453223, 'Finance')\n"
     ]
    }
   ],
   "source": [
    "tuple = ()\n",
    "print(tuple)\n",
    "\n",
    "tuplee =(1,2,3)\n",
    "print(tuplee)\n",
    "\n",
    "tuple2 = (101, \"Ali\", 23453223, \"Finance\")\n",
    "print(tuple2)"
   ]
  },
  {
   "cell_type": "code",
   "execution_count": 12,
   "metadata": {},
   "outputs": [
    {
     "name": "stdout",
     "output_type": "stream",
     "text": [
      "('points', [1, 4, 3], (7, 8, 6))\n",
      "(101, 'Ali', 20000, 'HR Head')\n",
      "101\n",
      "Ali\n",
      "20000\n",
      "HR Head\n"
     ]
    }
   ],
   "source": [
    "tuple4 = (\"points\", [1,4,3],(7,8,6))\n",
    "print(tuple4)\n",
    "\n",
    "tuple5 = 101, \"Ali\",20000, \"HR Head\"\n",
    "print(tuple5)\n",
    "empid,empname,empsal,empdept = tuple5\n",
    "print(empid)\n",
    "print(empname)\n",
    "print(empsal)\n",
    "print(empdept)"
   ]
  },
  {
   "cell_type": "code",
   "execution_count": 16,
   "metadata": {},
   "outputs": [
    {
     "name": "stdout",
     "output_type": "stream",
     "text": [
      "('w', 'e', 'l', 'c', 'o', 'm', 'e')\n",
      "w\n",
      "('w', 'e', 'l')\n",
      "('point', [1, 23, 4], (8, 7, 9))\n"
     ]
    }
   ],
   "source": [
    "tuple1 = ('w','e','l','c','o','m','e')\n",
    "print(tuple1)\n",
    "print(tuple1[0])\n",
    "print(tuple1[0:3])\n",
    "\n",
    "tuple2 = (\"point\",[1,23,4], (8,7,9))\n",
    "print(tuple2)"
   ]
  },
  {
   "cell_type": "code",
   "execution_count": 17,
   "metadata": {},
   "outputs": [
    {
     "name": "stdout",
     "output_type": "stream",
     "text": [
      "('e', 'l')\n",
      "('w', 'e', 'l')\n",
      "('c', 'o', 'm', 'e')\n",
      "('w', 'e', 'l', 'c', 'o', 'm', 'e')\n"
     ]
    }
   ],
   "source": [
    "tuple1 = ('w','e','l','c','o','m','e')\n",
    "print(tuple1[1:3])\n",
    "print(tuple1[:3])\n",
    "print(tuple1[3:])\n",
    "print(tuple1[:])"
   ]
  },
  {
   "cell_type": "code",
   "execution_count": 18,
   "metadata": {},
   "outputs": [
    {
     "name": "stdout",
     "output_type": "stream",
     "text": [
      "('w', 'e', 'l', 'c', 'o', 'm', 'e')\n",
      "('g', 'o', 'o', 'd', 'b', 'y', 'e')\n"
     ]
    }
   ],
   "source": [
    "tuple1 = ('w','e','l','c','o','m','e')\n",
    "print(tuple1)\n",
    "\n",
    "tuple1 = ('g','o','o','d','b','y','e')\n",
    "print(tuple1)"
   ]
  },
  {
   "cell_type": "code",
   "execution_count": 21,
   "metadata": {},
   "outputs": [
    {
     "name": "stdout",
     "output_type": "stream",
     "text": [
      "('w', 'e', 'l', 'c', 'o', 'm', 'e')\n",
      "tuple tuple tuple tuple \n"
     ]
    }
   ],
   "source": [
    "tuple1 = ('w','e','l')\n",
    "tuple=('c','o','m','e')\n",
    "\n",
    "print(tuple1 + tuple)\n",
    "print((\"tuple \")* 4)\n"
   ]
  },
  {
   "cell_type": "code",
   "execution_count": 25,
   "metadata": {},
   "outputs": [
    {
     "name": "stdout",
     "output_type": "stream",
     "text": [
      "('w', 'e', 'l', 'c', 'o', 'm', 'e')\n"
     ]
    }
   ],
   "source": [
    "tuple1 = ('w','e','l','c','o','m','e')\n",
    "# del tuple1[4]\n",
    "\n",
    "print(tuple1)"
   ]
  },
  {
   "cell_type": "code",
   "execution_count": 26,
   "metadata": {},
   "outputs": [
    {
     "name": "stdout",
     "output_type": "stream",
     "text": [
      "2\n",
      "3\n"
     ]
    }
   ],
   "source": [
    "tuple1 = ('w','e','l','c','o','m','e')\n",
    "print(tuple1.count('e'))\n",
    "print(tuple1.index('c'))"
   ]
  },
  {
   "cell_type": "code",
   "execution_count": 27,
   "metadata": {},
   "outputs": [
    {
     "name": "stdout",
     "output_type": "stream",
     "text": [
      "('w', 'e', 'l', 'c', 'o', 'm', 'e')\n",
      "True\n",
      "False\n",
      "False\n"
     ]
    }
   ],
   "source": [
    "tuple1 = ('w','e','l','c','o','m','e')\n",
    "\n",
    "print(tuple1)\n",
    "\n",
    "print('c' in tuple1)\n",
    "print('c' not in tuple1)\n",
    "print('d' in tuple1)"
   ]
  },
  {
   "cell_type": "code",
   "execution_count": 28,
   "metadata": {},
   "outputs": [
    {
     "name": "stdout",
     "output_type": "stream",
     "text": [
      "w\n",
      "e\n",
      "l\n",
      "c\n",
      "o\n",
      "m\n",
      "e\n"
     ]
    }
   ],
   "source": [
    "tuple1 = ('w','e','l','c','o','m','e')\n",
    "for letter in tuple1:\n",
    "    print(letter)"
   ]
  },
  {
   "cell_type": "code",
   "execution_count": 29,
   "metadata": {},
   "outputs": [
    {
     "name": "stdout",
     "output_type": "stream",
     "text": [
      "(22, 33, 44, 55, 66, 77, 99)\n",
      "99\n",
      "22\n"
     ]
    }
   ],
   "source": [
    "tup =(22,33,44,55,66,77,99)\n",
    "print(tup)\n",
    "\n",
    "print(max(tup))\n",
    "print(min(tup))"
   ]
  }
 ],
 "metadata": {
  "kernelspec": {
   "display_name": "Python 3",
   "language": "python",
   "name": "python3"
  },
  "language_info": {
   "codemirror_mode": {
    "name": "ipython",
    "version": 3
   },
   "file_extension": ".py",
   "mimetype": "text/x-python",
   "name": "python",
   "nbconvert_exporter": "python",
   "pygments_lexer": "ipython3",
   "version": "3.12.6"
  }
 },
 "nbformat": 4,
 "nbformat_minor": 2
}
