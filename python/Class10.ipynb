{
 "cells": [
  {
   "cell_type": "code",
   "execution_count": 1,
   "metadata": {},
   "outputs": [
    {
     "name": "stdout",
     "output_type": "stream",
     "text": [
      "3\n",
      "2\n",
      "1\n"
     ]
    }
   ],
   "source": [
    "i = 3\n",
    "while i > 0:\n",
    "    print(i)\n",
    "    i -=1 \n",
    "    "
   ]
  },
  {
   "cell_type": "code",
   "execution_count": 2,
   "metadata": {},
   "outputs": [
    {
     "name": "stdout",
     "output_type": "stream",
     "text": [
      "0\n",
      "1\n",
      "2\n",
      "3\n",
      "4\n",
      "5\n",
      "6\n",
      "7\n",
      "8\n",
      "9\n",
      "Displayed Successfully\n"
     ]
    }
   ],
   "source": [
    "while i<10:\n",
    "    print(i) \n",
    "    i+=1 \n",
    "else:\n",
    "    print(\"Displayed Successfully\")"
   ]
  },
  {
   "cell_type": "markdown",
   "metadata": {},
   "source": [
    "Patterns"
   ]
  },
  {
   "cell_type": "markdown",
   "metadata": {},
   "source": [
    "Patterns"
   ]
  },
  {
   "cell_type": "code",
   "execution_count": 8,
   "metadata": {},
   "outputs": [
    {
     "name": "stdout",
     "output_type": "stream",
     "text": [
      "*******\n",
      ".*****\n",
      "..***\n",
      "...*\n",
      "..***\n",
      ".*****\n",
      "*******\n"
     ]
    }
   ],
   "source": [
    "n = int(input(\"Please enter the number of Layers...\"))\n",
    "m = (n+1)/2\n",
    "i = 1 \n",
    "while i <= n:\n",
    "    if (i > m):\n",
    "      b = n-i\n",
    "      s = 2*(i-m)+1\n",
    "    else:\n",
    "        b = i-1 \n",
    "        s = 2*(m-i)+1  \n",
    "    j = 1 \n",
    "    while j <=b:\n",
    "        print(\".\", end=\"\")\n",
    "        j=j+1\n",
    "    j = 1\n",
    "    while j<= s:\n",
    "        print(\"*\", end=\"\")\n",
    "        j = j+1\n",
    "    print()   \n",
    "    i = i+1     "
   ]
  },
  {
   "cell_type": "code",
   "execution_count": null,
   "metadata": {},
   "outputs": [],
   "source": []
  }
 ],
 "metadata": {
  "kernelspec": {
   "display_name": "Python 3",
   "language": "python",
   "name": "python3"
  },
  "language_info": {
   "codemirror_mode": {
    "name": "ipython",
    "version": 3
   },
   "file_extension": ".py",
   "mimetype": "text/x-python",
   "name": "python",
   "nbconvert_exporter": "python",
   "pygments_lexer": "ipython3",
   "version": "3.12.6"
  }
 },
 "nbformat": 4,
 "nbformat_minor": 2
}
