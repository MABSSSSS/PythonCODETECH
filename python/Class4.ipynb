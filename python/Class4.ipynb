{
 "cells": [
  {
   "cell_type": "code",
   "execution_count": 4,
   "metadata": {},
   "outputs": [
    {
     "name": "stdout",
     "output_type": "stream",
     "text": [
      "Apple\n",
      "100\n",
      "11 7 9\n",
      "5 5 5\n",
      "1 2 MABS\n"
     ]
    }
   ],
   "source": [
    "a = \"Apple\"\n",
    "print(a)\n",
    "a =100\n",
    "print(a)\n",
    "\n",
    "b,c,d =11,7,9\n",
    "print(b,c,d)\n",
    "\n",
    "b=c=d=5\n",
    "print(b,c,d)\n",
    "b,c,d = 1,2,\"MABS\"\n",
    "print(b,c,d)"
   ]
  },
  {
   "cell_type": "code",
   "execution_count": 5,
   "metadata": {},
   "outputs": [
    {
     "name": "stdout",
     "output_type": "stream",
     "text": [
      "l-> [[1, 3, 2], [7, 6, 5], [2, 3, 4]]\n",
      "l1-> 1978684006912\n",
      "[[1, 3, 2], [7, 6, 5], [2, 3, 4], [10, 23, 7]]\n"
     ]
    }
   ],
   "source": [
    "l =[[1,3,2],[7,6,5],[2,3,4]]\n",
    "l1 = l\n",
    "\n",
    "print(\"l->\" ,l)\n",
    "print(\"l1->\",id(l1))\n",
    "\n",
    "l.append([10,23,7])\n",
    "print(l)"
   ]
  },
  {
   "cell_type": "code",
   "execution_count": 6,
   "metadata": {},
   "outputs": [
    {
     "name": "stdout",
     "output_type": "stream",
     "text": [
      "[[1, 3, 2], [7, 6, 5], [2, 3, 4]]\n",
      "[[1, 3, 2], [7, 6, 5], [2, 3, 4]]\n"
     ]
    }
   ],
   "source": [
    "import copy \n",
    "l =[[1,3,2],[7,6,5],[2,3,4]]\n",
    "nl = copy.copy(l)\n",
    "print(l)\n",
    "print(nl)\n"
   ]
  },
  {
   "cell_type": "code",
   "execution_count": 14,
   "metadata": {},
   "outputs": [
    {
     "name": "stdout",
     "output_type": "stream",
     "text": [
      "[[1, 3, 2], [7, 6, 5], [2, 3, 4], [1, 3, 2]]\n",
      "[[1, 3, 2], [7, 6, 5], [2, 3, 4]]\n",
      "old list [[1, 3, 2], [7, 'AA', 5], [2, 3, 4], [1, 3, 2]]\n"
     ]
    }
   ],
   "source": [
    "l.append ([1,3,2])\n",
    "print(l)\n",
    "print(nl)\n",
    "\n",
    "l[1][1] = 'AA'\n",
    "print(\"old list\",l)"
   ]
  },
  {
   "cell_type": "code",
   "execution_count": 15,
   "metadata": {},
   "outputs": [
    {
     "name": "stdout",
     "output_type": "stream",
     "text": [
      "[[1, 3, 2], [7, 6, 5], [2, 3, 4]]\n"
     ]
    }
   ],
   "source": [
    "import copy\n",
    "l =[[1,3,2],[7,6,5],[2,3,4]]\n",
    "nl = copy.deepcopy(l)\n",
    "print(l)"
   ]
  },
  {
   "cell_type": "code",
   "execution_count": 16,
   "metadata": {},
   "outputs": [
    {
     "name": "stdout",
     "output_type": "stream",
     "text": [
      "oldlist [[1, 3, 2], ['BB', 6, 5], [2, 3, 4]]\n"
     ]
    }
   ],
   "source": [
    "l[1][0] ='BB'\n",
    "print('oldlist',l)\n"
   ]
  }
 ],
 "metadata": {
  "kernelspec": {
   "display_name": "Python 3",
   "language": "python",
   "name": "python3"
  },
  "language_info": {
   "codemirror_mode": {
    "name": "ipython",
    "version": 3
   },
   "file_extension": ".py",
   "mimetype": "text/x-python",
   "name": "python",
   "nbconvert_exporter": "python",
   "pygments_lexer": "ipython3",
   "version": "3.12.6"
  }
 },
 "nbformat": 4,
 "nbformat_minor": 2
}
