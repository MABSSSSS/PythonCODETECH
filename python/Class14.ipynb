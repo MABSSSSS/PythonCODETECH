{
 "cells": [
  {
   "cell_type": "code",
   "execution_count": 1,
   "metadata": {},
   "outputs": [
    {
     "name": "stdout",
     "output_type": "stream",
     "text": [
      "[12, 13, 20, 15, 50]\n",
      "12\n",
      "13\n",
      "20\n",
      "15\n",
      "50\n"
     ]
    }
   ],
   "source": [
    "arr =[12,13,20,15,50]\n",
    "print(arr)\n",
    "\n",
    "print(arr[0])\n",
    "print(arr[1])\n",
    "print(arr[2])\n",
    "print(arr[3])\n",
    "print(arr[4])"
   ]
  },
  {
   "cell_type": "code",
   "execution_count": 2,
   "metadata": {},
   "outputs": [
    {
     "name": "stdout",
     "output_type": "stream",
     "text": [
      "['Coke', 'Apple', 'Goggle', 'Microsoft', 'Toyota']\n",
      "Length of brands: 5\n",
      "['Coke', 'Apple', 'Goggle', 'Microsoft', 'Toyota', 'Intel']\n"
     ]
    }
   ],
   "source": [
    "barnds = [\"Coke\", \"Apple\", \"Goggle\", \"Microsoft\", \"Toyota\"]\n",
    "print(barnds)\n",
    "\n",
    "print(\"Length of brands:\",len(barnds))\n",
    "barnds.append(\"Intel\")\n",
    "print(barnds)"
   ]
  },
  {
   "cell_type": "code",
   "execution_count": 4,
   "metadata": {},
   "outputs": [
    {
     "name": "stdout",
     "output_type": "stream",
     "text": [
      "['Goggle', 'Microsoft', 'Toyota', 'Intel']\n"
     ]
    }
   ],
   "source": [
    "del barnds[0]\n",
    "print(barnds)"
   ]
  },
  {
   "cell_type": "code",
   "execution_count": 6,
   "metadata": {},
   "outputs": [
    {
     "name": "stdout",
     "output_type": "stream",
     "text": [
      "['Apple', 'Banana', 'PineApple', 'Orange', 'Grapes']\n"
     ]
    }
   ],
   "source": [
    "fruits = [\"Apple\", \"Banana\", \"Mango\", \"Orange\", \"Grapes\"]\n",
    "fruits[2] = \"PineApple\"\n",
    "print(fruits)"
   ]
  },
  {
   "cell_type": "code",
   "execution_count": 8,
   "metadata": {},
   "outputs": [
    {
     "name": "stdout",
     "output_type": "stream",
     "text": [
      "[1, 2, 3]\n",
      "[1, 2, 3]\n",
      "[1, 2, 3, 4, 5, 6]\n"
     ]
    }
   ],
   "source": [
    "con =[1,2,3]\n",
    "print(con)\n",
    "con + [2,3,4]\n",
    "print(con)\n",
    "con = con + [4,5,6]\n",
    "print(con)"
   ]
  },
  {
   "cell_type": "code",
   "execution_count": 5,
   "metadata": {},
   "outputs": [
    {
     "name": "stdout",
     "output_type": "stream",
     "text": [
      "['a', 'a', 'a', 'a', 'a', 'a', 'a']\n"
     ]
    }
   ],
   "source": [
    "repeat = [\"a\"]\n",
    "repeat = repeat * 5 + repeat * 2\n",
    "print(repeat)"
   ]
  },
  {
   "cell_type": "code",
   "execution_count": 8,
   "metadata": {},
   "outputs": [
    {
     "name": "stdout",
     "output_type": "stream",
     "text": [
      "['Apple', 'Banana', 'Mango', 'Grapes', 'Oranges']\n",
      "['Banana', 'Mango', 'Grapes']\n",
      "['Mango', 'Grapes']\n"
     ]
    }
   ],
   "source": [
    "fruits =[\"Apple\", \"Banana\",\"Mango\",\"Grapes\",\"Oranges\"]\n",
    "print(fruits)\n",
    "\n",
    "print(fruits[1:4])\n",
    "print(fruits[-3:-1])"
   ]
  },
  {
   "cell_type": "code",
   "execution_count": 9,
   "metadata": {},
   "outputs": [
    {
     "name": "stdout",
     "output_type": "stream",
     "text": [
      "[[1, 2], [2, 3], [4, 3], [5, 7]]\n",
      "[1, 2]\n",
      "3\n"
     ]
    }
   ],
   "source": [
    "mult =[[1,2],[2,3],[4,3],[5,7]]\n",
    "print(mult)\n",
    "\n",
    "print(mult[0])\n",
    "print(mult[2][1])"
   ]
  },
  {
   "cell_type": "code",
   "execution_count": 10,
   "metadata": {},
   "outputs": [
    {
     "name": "stdout",
     "output_type": "stream",
     "text": [
      "44\n",
      "33\n",
      "77\n",
      "11\n"
     ]
    }
   ],
   "source": [
    "list = [44,33,77,11]\n",
    "iter = iter(list)\n",
    "\n",
    "print(next(iter))\n",
    "\n",
    "print(next(iter))\n",
    "\n",
    "print(iter.__next__())\n",
    "\n",
    "print(iter.__next__())\n",
    "\n",
    "\n"
   ]
  },
  {
   "cell_type": "code",
   "execution_count": 14,
   "metadata": {},
   "outputs": [
    {
     "name": "stdout",
     "output_type": "stream",
     "text": [
      "Class to implement \n",
      "    an iterator of \n",
      "    powers of two\n",
      "    \n"
     ]
    },
    {
     "ename": "TypeError",
     "evalue": "'list_iterator' object is not callable",
     "output_type": "error",
     "traceback": [
      "\u001b[1;31m---------------------------------------------------------------------------\u001b[0m",
      "\u001b[1;31mTypeError\u001b[0m                                 Traceback (most recent call last)",
      "Cell \u001b[1;32mIn[14], line 24\u001b[0m\n\u001b[0;32m     22\u001b[0m \u001b[38;5;28mprint\u001b[39m(Pow_of_Two\u001b[38;5;241m.\u001b[39m\u001b[38;5;18m__doc__\u001b[39m)\n\u001b[0;32m     23\u001b[0m a \u001b[38;5;241m=\u001b[39m Pow_of_Two(\u001b[38;5;241m4\u001b[39m)\n\u001b[1;32m---> 24\u001b[0m i \u001b[38;5;241m=\u001b[39m \u001b[38;5;28;43miter\u001b[39;49m\u001b[43m(\u001b[49m\u001b[43ma\u001b[49m\u001b[43m)\u001b[49m\n\u001b[0;32m     25\u001b[0m \u001b[38;5;28mprint\u001b[39m(i\u001b[38;5;241m.\u001b[39m\u001b[38;5;21m__next__\u001b[39m())\n\u001b[0;32m     26\u001b[0m \u001b[38;5;28mprint\u001b[39m(\u001b[38;5;28mnext\u001b[39m(i))\n",
      "\u001b[1;31mTypeError\u001b[0m: 'list_iterator' object is not callable"
     ]
    }
   ],
   "source": [
    "class Pow_of_Two:\n",
    "    '''Class to implement \n",
    "    an iterator of \n",
    "    powers of two\n",
    "    '''\n",
    "    \n",
    "    def __init__(self, max = 0):\n",
    "        self.max = max \n",
    "        \n",
    "    def __iter__(self):\n",
    "        self.n = 0 \n",
    "        return self \n",
    "    \n",
    "    def __next__(self):\n",
    "        if self.n <= self.max:\n",
    "            result = 2 ** self.n \n",
    "            self.n += 1 \n",
    "            return result \n",
    "        else:\n",
    "            raise StopIteration \n",
    "        \n",
    "print(Pow_of_Two.__doc__)\n",
    "a = Pow_of_Two(4)\n",
    "i = iter(a)\n",
    "print(i.__next__())\n",
    "print(next(i))\n",
    "print(next(i))\n",
    "print(next(i))\n",
    "        "
   ]
  },
  {
   "cell_type": "code",
   "execution_count": 16,
   "metadata": {},
   "outputs": [
    {
     "ename": "TypeError",
     "evalue": "'list_iterator' object is not callable",
     "output_type": "error",
     "traceback": [
      "\u001b[1;31m---------------------------------------------------------------------------\u001b[0m",
      "\u001b[1;31mTypeError\u001b[0m                                 Traceback (most recent call last)",
      "Cell \u001b[1;32mIn[16], line 18\u001b[0m\n\u001b[0;32m     15\u001b[0m         \u001b[38;5;28;01mreturn\u001b[39;00m num \n\u001b[0;32m     17\u001b[0m i \u001b[38;5;241m=\u001b[39m Infinite()\n\u001b[1;32m---> 18\u001b[0m a \u001b[38;5;241m=\u001b[39m \u001b[38;5;28;43miter\u001b[39;49m\u001b[43m(\u001b[49m\u001b[43mi\u001b[49m\u001b[43m)\u001b[49m\n\u001b[0;32m     19\u001b[0m \u001b[38;5;28mprint\u001b[39m(\u001b[38;5;28mnext\u001b[39m(a))\n\u001b[0;32m     20\u001b[0m \u001b[38;5;28mprint\u001b[39m(\u001b[38;5;28mnext\u001b[39m(a))\n",
      "\u001b[1;31mTypeError\u001b[0m: 'list_iterator' object is not callable"
     ]
    }
   ],
   "source": [
    "import itertools\n",
    "class Infinite:\n",
    "    \"\"\"\n",
    "    Infinite iterator to return all \n",
    "    odd numbers\n",
    "    \n",
    "    \"\"\"\n",
    "    \n",
    "    def __iter__(self):\n",
    "        self.num = 1 \n",
    "        return self \n",
    "    def __next__(self):\n",
    "        num = self.num \n",
    "        self.num += 2 \n",
    "        return num \n",
    "    \n",
    "i = Infinite()\n",
    "a = iter(i)\n",
    "print(next(a))\n",
    "print(next(a))"
   ]
  },
  {
   "cell_type": "code",
   "execution_count": 18,
   "metadata": {},
   "outputs": [],
   "source": [
    "class myPoint:\n",
    "    def __init__(self, x=0, y=0):\n",
    "        self.x =x \n",
    "        self.y = y \n",
    "    \n",
    "    def __str__(self):\n",
    "        return \"({0},{1})\".format(self.x , self.y)\n",
    "    \n",
    "    def __add__(self, other):\n",
    "        x = self.x + other.x \n",
    "        y = self.y + other.y \n",
    "        return myPoint(x , y)\n",
    "    \n",
    "    def __lt__(self, other ):\n",
    "        self_mag = (self.x ** 2) + (self.y ** 2)\n",
    "        other_mag = (other.x ** 2) + (other.y ** 2)\n",
    "        return self_mag < other_mag"
   ]
  },
  {
   "cell_type": "code",
   "execution_count": 20,
   "metadata": {},
   "outputs": [
    {
     "name": "stdout",
     "output_type": "stream",
     "text": [
      "(1,2)\n",
      "(4,5)\n",
      "\n",
      "True\n",
      "(5,7)\n",
      "\n",
      "True\n",
      "(5,7)\n"
     ]
    }
   ],
   "source": [
    "p1 = myPoint(1,2)\n",
    "p2 = myPoint(4,5)\n",
    "\n",
    "print(p1)\n",
    "print(p2)\n",
    "\n",
    "print()\n",
    "print(p1<p2)\n",
    "print(p1+p2)\n",
    "print()\n",
    "print(p1.__lt__(p2))\n",
    "print(p1.__add__(p2))"
   ]
  }
 ],
 "metadata": {
  "kernelspec": {
   "display_name": "Python 3",
   "language": "python",
   "name": "python3"
  },
  "language_info": {
   "codemirror_mode": {
    "name": "ipython",
    "version": 3
   },
   "file_extension": ".py",
   "mimetype": "text/x-python",
   "name": "python",
   "nbconvert_exporter": "python",
   "pygments_lexer": "ipython3",
   "version": "3.12.6"
  }
 },
 "nbformat": 4,
 "nbformat_minor": 2
}
