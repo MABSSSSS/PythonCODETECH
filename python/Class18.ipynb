{
 "cells": [
  {
   "cell_type": "code",
   "execution_count": 1,
   "metadata": {},
   "outputs": [
    {
     "name": "stdout",
     "output_type": "stream",
     "text": [
      "[['Roy', 40, 45, 56, 78], ['John', 34, 54, 56, 67], ['ged', 33, 44, 55, 77]]\n",
      "\n",
      "[['Joy', 40, 45, 56, 78], ['Dohn', 34, 54, 56, 67], ['Aed', 33, 44, 55, 77]]\n"
     ]
    }
   ],
   "source": [
    "a =[['Roy',40,45,56,78],\n",
    "    ['John',34,54,56,67],\n",
    "    ['ged',33,44,55,77]]\n",
    "\n",
    "b =[['Joy',40,45,56,78],\n",
    "    ['Dohn',34,54,56,67],\n",
    "    ['Aed',33,44,55,77]]\n",
    "\n",
    "print(a)\n",
    "print()\n",
    "print(b)"
   ]
  },
  {
   "cell_type": "code",
   "execution_count": 2,
   "metadata": {},
   "outputs": [
    {
     "name": "stdout",
     "output_type": "stream",
     "text": [
      "[0, 0, 0]\n",
      "[[0, 0, 0, 0], [0, 0, 0, 0], [0, 0, 0, 0]]\n"
     ]
    }
   ],
   "source": [
    "n = 3\n",
    "m = 4\n",
    "a =[0] * (n)\n",
    "print(a)\n",
    "for i in range(n):\n",
    "    a[i] =[0] * m\n",
    "print(a)"
   ]
  },
  {
   "cell_type": "code",
   "execution_count": 3,
   "metadata": {},
   "outputs": [
    {
     "name": "stdout",
     "output_type": "stream",
     "text": [
      "[[0, 0, 0, 0], [0, 0, 0, 0], [0, 0, 0, 0]]\n",
      "[0, 0, 0, 0]\n",
      "0\n",
      "0\n"
     ]
    }
   ],
   "source": [
    "print(a)\n",
    "print(a[0])\n",
    "print(a[0][1])\n",
    "print(a[0][2])"
   ]
  },
  {
   "cell_type": "code",
   "execution_count": 4,
   "metadata": {},
   "outputs": [
    {
     "name": "stdout",
     "output_type": "stream",
     "text": [
      "[[0, 0, 0, 0], [0, 0, 0, 0], [0, 0, 0, 0]]\n",
      "[0, 0, 0, 0]\n",
      "[0, 0, 0, 0]\n"
     ]
    }
   ],
   "source": [
    "print(a)\n",
    "print(a[-1])\n",
    "print(a[-2])"
   ]
  },
  {
   "cell_type": "code",
   "execution_count": 5,
   "metadata": {},
   "outputs": [
    {
     "name": "stdout",
     "output_type": "stream",
     "text": [
      "[[0, 0, 0, 0], [0, 0, 0, 0], [0, 0, 0, 0]]\n",
      "[0, 0, 0, 0]\n",
      "[0, 75, 0, 0]\n",
      "[[0, 75, 0, 0], [0, 0, 0, 0], [0, 0, 0, 0]]\n",
      "[[0, 75, 0, 0], [0, 0, 0, 0], ['Aaam', 33, 54, 56, 67]]\n"
     ]
    }
   ],
   "source": [
    "print(a)\n",
    "b=a[0]\n",
    "print(b)\n",
    "\n",
    "b[1] =75\n",
    "print(b)\n",
    "print(a)\n",
    "\n",
    "a[2] =['Aaam',33,54,56,67]\n",
    "print(a)"
   ]
  },
  {
   "cell_type": "code",
   "execution_count": 6,
   "metadata": {},
   "outputs": [
    {
     "name": "stdout",
     "output_type": "stream",
     "text": [
      "{33, 11, 44, 22}\n",
      "{(22, 2, 1992), 'Ali', 101}\n",
      "{33, 22, 55, 11, 44}\n"
     ]
    }
   ],
   "source": [
    "my_set = {11,22,33,44}\n",
    "print(my_set)\n",
    "\n",
    "set2 = {101, \"Ali\",(22,2,1992)}\n",
    "print(set2)\n",
    "\n",
    "set3 ={11,22,33,44,22,55}\n",
    "print(set3)"
   ]
  },
  {
   "cell_type": "code",
   "execution_count": 8,
   "metadata": {},
   "outputs": [
    {
     "name": "stdout",
     "output_type": "stream",
     "text": [
      "{1, 2, 3, 4}\n",
      "<class 'set'>\n",
      "[33, 11, 22, 55]\n",
      "<class 'list'>\n"
     ]
    }
   ],
   "source": [
    "# set4 = {1,2,[2,3]}\n",
    "\n",
    "set5 = set([1,2,3,4])\n",
    "print(set5)\n",
    "print(type(set5))\n",
    "\n",
    "mylist = list({11,22,33,55})\n",
    "print(mylist)\n",
    "print(type(mylist))"
   ]
  },
  {
   "cell_type": "code",
   "execution_count": 10,
   "metadata": {},
   "outputs": [
    {
     "name": "stdout",
     "output_type": "stream",
     "text": [
      "{33, 11, 44, 55}\n",
      "{33, 99, 11, 44, 55}\n",
      "{33, 99, 100, 103, 104, 105, 11, 44, 300, 55}\n"
     ]
    }
   ],
   "source": [
    "set1 = {11,33,44,55}\n",
    "print(set1)\n",
    "\n",
    "set1.add(99)\n",
    "print(set1)\n",
    "\n",
    "set1.update([100,300], {103,104,105})\n",
    "print(set1)"
   ]
  },
  {
   "cell_type": "code",
   "execution_count": 12,
   "metadata": {},
   "outputs": [
    {
     "name": "stdout",
     "output_type": "stream",
     "text": [
      "{33, 22, 55, 11, 44}\n",
      "{33, 22, 55, 11, 44}\n",
      "{33, 22, 55, 11}\n"
     ]
    }
   ],
   "source": [
    "my = {11,22,33,44,55}\n",
    "print(my)\n",
    "\n",
    "my.discard(4)\n",
    "print(my)\n",
    "\n",
    "\n",
    "my.remove(44)\n",
    "print(my)\n"
   ]
  },
  {
   "cell_type": "code",
   "execution_count": 14,
   "metadata": {},
   "outputs": [
    {
     "name": "stdout",
     "output_type": "stream",
     "text": [
      "22\n",
      "set()\n"
     ]
    }
   ],
   "source": [
    "print(my.pop())\n",
    "my.clear()\n",
    "print(my)"
   ]
  },
  {
   "cell_type": "code",
   "execution_count": 15,
   "metadata": {},
   "outputs": [
    {
     "name": "stdout",
     "output_type": "stream",
     "text": [
      "{33, 22, 55, 11, 44}\n",
      "{33, 66, 22, 55, 44, 77}\n",
      "{33, 66, 11, 44, 77, 22, 55}\n",
      "{33, 66, 11, 44, 77, 22, 55}\n",
      "{33, 66, 11, 44, 77, 22, 55}\n",
      "{33, 66, 11, 44, 77, 22, 55}\n"
     ]
    }
   ],
   "source": [
    "my1 = {11,22,33,44,55}\n",
    "my2 = {22,33,44,55,66,77}\n",
    "\n",
    "print(my1)\n",
    "print(my2)\n",
    "\n",
    "print(my1 | my2)\n",
    "print(my2 | my1)\n",
    "\n",
    "print(my1.union(my2))\n",
    "print(my2.union(my1))\n"
   ]
  },
  {
   "cell_type": "code",
   "execution_count": 16,
   "metadata": {},
   "outputs": [
    {
     "name": "stdout",
     "output_type": "stream",
     "text": [
      "{33, 44, 22, 55}\n",
      "{33, 44, 22, 55}\n"
     ]
    }
   ],
   "source": [
    "print(my1 & my2)\n",
    "print(my2.intersection(my1))"
   ]
  },
  {
   "cell_type": "code",
   "execution_count": 17,
   "metadata": {},
   "outputs": [
    {
     "name": "stdout",
     "output_type": "stream",
     "text": [
      "{66, 77}\n",
      "{11}\n"
     ]
    }
   ],
   "source": [
    "print(my2 -my1)\n",
    "print(my1.difference(my2))"
   ]
  },
  {
   "cell_type": "code",
   "execution_count": 19,
   "metadata": {},
   "outputs": [
    {
     "name": "stdout",
     "output_type": "stream",
     "text": [
      "{66, 11, 77}\n",
      "{66, 11, 77}\n"
     ]
    }
   ],
   "source": [
    "print(my1 ^my2)\n",
    "print(my1.symmetric_difference(my2))"
   ]
  },
  {
   "cell_type": "code",
   "execution_count": 21,
   "metadata": {},
   "outputs": [
    {
     "name": "stdout",
     "output_type": "stream",
     "text": [
      "False\n",
      "False\n",
      "True\n"
     ]
    }
   ],
   "source": [
    "print( 2 in my1)\n",
    "print(66 in my1)\n",
    "print(66 in my2)"
   ]
  },
  {
   "cell_type": "code",
   "execution_count": 22,
   "metadata": {},
   "outputs": [
    {
     "name": "stdout",
     "output_type": "stream",
     "text": [
      "c\n",
      "e\n",
      "o\n",
      "m\n",
      "w\n",
      "l\n"
     ]
    }
   ],
   "source": [
    "for letter in set(\"welcome\"):\n",
    "    print(letter)"
   ]
  },
  {
   "cell_type": "code",
   "execution_count": 23,
   "metadata": {},
   "outputs": [
    {
     "name": "stdout",
     "output_type": "stream",
     "text": [
      "55\n",
      "22\n",
      "5\n",
      "[11, 22, 33, 44, 55]\n"
     ]
    }
   ],
   "source": [
    "print(max(my1))\n",
    "print(min(my2))\n",
    "print(len(my1))\n",
    "print(sorted(my1))"
   ]
  },
  {
   "cell_type": "code",
   "execution_count": 26,
   "metadata": {},
   "outputs": [
    {
     "name": "stdout",
     "output_type": "stream",
     "text": [
      "frozenset()\n",
      "frozenset({2, 3, 4, 5})\n",
      "frozenset({2, 3, 4, 5})\n",
      "frozenset()\n"
     ]
    }
   ],
   "source": [
    "my1 =frozenset([2,3,4,5])\n",
    "my2 =frozenset([2,3,4,5])\n",
    "\n",
    "print(my1.difference(my2))\n",
    "print(my1.union(my2))\n",
    "print(my1.intersection(my2))\n",
    "print(my1.symmetric_difference(my2))\n"
   ]
  }
 ],
 "metadata": {
  "kernelspec": {
   "display_name": "Python 3",
   "language": "python",
   "name": "python3"
  },
  "language_info": {
   "codemirror_mode": {
    "name": "ipython",
    "version": 3
   },
   "file_extension": ".py",
   "mimetype": "text/x-python",
   "name": "python",
   "nbconvert_exporter": "python",
   "pygments_lexer": "ipython3",
   "version": "3.12.6"
  }
 },
 "nbformat": 4,
 "nbformat_minor": 2
}
