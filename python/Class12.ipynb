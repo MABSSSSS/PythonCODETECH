{
 "cells": [
  {
   "cell_type": "code",
   "execution_count": 1,
   "metadata": {},
   "outputs": [
    {
     "name": "stdout",
     "output_type": "stream",
     "text": [
      "[]\n",
      "[11, 22, 33, 44]\n",
      "[33, 44, 55, 66]\n"
     ]
    }
   ],
   "source": [
    "list =[]\n",
    "print(list)\n",
    "\n",
    "list1 = [11,22,33,44]\n",
    "print(list1)\n",
    "\n",
    "list2 = [33,44,55,66]\n",
    "print(list2)\n"
   ]
  },
  {
   "cell_type": "code",
   "execution_count": 3,
   "metadata": {},
   "outputs": [
    {
     "name": "stdout",
     "output_type": "stream",
     "text": [
      "['Sun', 'Mon', 'Tue', 'Wed', 'Thu', 'Fri', 'Sat']\n",
      "Sun Tue Thu\n"
     ]
    }
   ],
   "source": [
    "days =['Sun','Mon','Tue','Wed','Thu','Fri','Sat']\n",
    "print(days)\n",
    "\n",
    "print(days[0],days[2],days[4])\n"
   ]
  },
  {
   "cell_type": "code",
   "execution_count": 4,
   "metadata": {},
   "outputs": [
    {
     "name": "stdout",
     "output_type": "stream",
     "text": [
      "Weekday\n",
      "k\n"
     ]
    }
   ],
   "source": [
    "nest_list = [\"Weekday\",[1,3,4,5]]\n",
    "print(nest_list[0])\n",
    "print(nest_list[0][3])"
   ]
  },
  {
   "cell_type": "code",
   "execution_count": 6,
   "metadata": {},
   "outputs": [
    {
     "name": "stdout",
     "output_type": "stream",
     "text": [
      "['Sun', 'Mon', 'Tue']\n",
      "['Mon', 'Tue']\n",
      "['Sun', 'Mon', 'Tue']\n"
     ]
    }
   ],
   "source": [
    "days = [\"Sun\",\"Mon\",\"Tue\"]\n",
    "print(days)\n",
    "print(days[1:3])\n",
    "print(days[:])"
   ]
  },
  {
   "cell_type": "code",
   "execution_count": 8,
   "metadata": {},
   "outputs": [
    {
     "name": "stdout",
     "output_type": "stream",
     "text": [
      "['Sun', 'Mon', 'Tue', 'Wed', 'Thu', 'Fri', 'Sat']\n",
      "['Mon', 'Tue', 'Wed']\n",
      "['Sun', 'Mon', 'Tue', 'Wed', 'Thu', 'Fri', 'Sat']\n"
     ]
    }
   ],
   "source": [
    "days = [\"Sun\",\"Mon\",\"Tue\",\"Wed\",\"Thu\",\"Fri\",\"Sat\"]\n",
    "print(days)\n",
    "print(days[1:4])\n",
    "print(days[:])"
   ]
  },
  {
   "cell_type": "code",
   "execution_count": 9,
   "metadata": {},
   "outputs": [
    {
     "name": "stdout",
     "output_type": "stream",
     "text": [
      "['Sun', 'Mon', 'Tue', 'Wed', 'Thu', 'Fri', 'Sat']\n",
      "['Sun', 'Monday', 'Tuesday', 'Wednesday', 'Thu', 'Fri', 'Sat']\n",
      "['Day Names', 'Monday', 'Tuesday', 'Wednesday', 'Thu', 'Fri', 'Sat']\n"
     ]
    }
   ],
   "source": [
    "days = [\"Sun\",\"Mon\",\"Tue\",\"Wed\",\"Thu\",\"Fri\",\"Sat\"]\n",
    "print(days)\n",
    "days[1:4] = [\"Monday\",\"Tuesday\",\"Wednesday\"]\n",
    "print(days)\n",
    "days[0] = \"Day Names\"\n",
    "print(days)\n",
    "\n"
   ]
  },
  {
   "cell_type": "code",
   "execution_count": 10,
   "metadata": {},
   "outputs": [
    {
     "name": "stdout",
     "output_type": "stream",
     "text": [
      "[1, 3, 5]\n",
      "[1, 3, 5, 7]\n",
      "[1, 3, 5, 7, 9, 11, 13]\n"
     ]
    }
   ],
   "source": [
    "odd_nums = [1,3,5]\n",
    "print(odd_nums)\n",
    "\n",
    "odd_nums.append(7)\n",
    "print(odd_nums)\n",
    "\n",
    "odd_nums.extend([9,11,13])\n",
    "print(odd_nums)\n"
   ]
  },
  {
   "cell_type": "code",
   "execution_count": null,
   "metadata": {},
   "outputs": [],
   "source": [
    "odd_nums = [1,3,5]\n",
    "print(odd_nums)\n",
    "print(odd_nums + [7,9,11])\n",
    "\n",
    "print([\"info\"]* 3)"
   ]
  },
  {
   "cell_type": "code",
   "execution_count": 11,
   "metadata": {},
   "outputs": [
    {
     "name": "stdout",
     "output_type": "stream",
     "text": [
      "[1, 9]\n",
      "[1, 3, 9]\n",
      "[1, 3, 5, 7, 9]\n"
     ]
    }
   ],
   "source": [
    "odd_nums = [1,9]\n",
    "print(odd_nums)\n",
    "\n",
    "odd_nums.insert(1,3)\n",
    "print(odd_nums)\n",
    "\n",
    "odd_nums[2:2] = [5,7]\n",
    "print(odd_nums)"
   ]
  },
  {
   "cell_type": "code",
   "execution_count": 12,
   "metadata": {},
   "outputs": [
    {
     "name": "stdout",
     "output_type": "stream",
     "text": [
      "['w', 'e', 'l', 'c', 'o', 'm', 'e']\n",
      "['w', 'e', 'c', 'o', 'm', 'e']\n",
      "['w', 'm', 'e']\n"
     ]
    },
    {
     "ename": "NameError",
     "evalue": "name 'list1' is not defined",
     "output_type": "error",
     "traceback": [
      "\u001b[1;31m---------------------------------------------------------------------------\u001b[0m",
      "\u001b[1;31mNameError\u001b[0m                                 Traceback (most recent call last)",
      "Cell \u001b[1;32mIn[12], line 11\u001b[0m\n\u001b[0;32m      8\u001b[0m \u001b[38;5;28mprint\u001b[39m(list1)\n\u001b[0;32m     10\u001b[0m \u001b[38;5;28;01mdel\u001b[39;00m list1 \n\u001b[1;32m---> 11\u001b[0m \u001b[38;5;28mprint\u001b[39m(\u001b[43mlist1\u001b[49m)\n",
      "\u001b[1;31mNameError\u001b[0m: name 'list1' is not defined"
     ]
    }
   ],
   "source": [
    "list1 =['w','e','l','c','o','m','e']\n",
    "print(list1)\n",
    "\n",
    "del list1[2]\n",
    "print(list1)\n",
    "\n",
    "del list1[1:4]\n",
    "print(list1)\n",
    "\n",
    "del list1 \n",
    "print(list1)"
   ]
  },
  {
   "cell_type": "code",
   "execution_count": 13,
   "metadata": {},
   "outputs": [
    {
     "name": "stdout",
     "output_type": "stream",
     "text": [
      "['p', 'r', 'o', 'b', 'l', 'e', 'm']\n",
      "['r', 'o', 'b', 'l', 'e', 'm']\n",
      "o\n",
      "['r', 'b', 'l', 'e', 'm']\n",
      "m\n",
      "['r', 'b', 'l', 'e']\n",
      "e\n",
      "['r', 'b', 'l']\n",
      "[]\n"
     ]
    }
   ],
   "source": [
    "list2 = ['p','r','o','b','l','e','m']\n",
    "print(list2)\n",
    "\n",
    "list2.remove('p')\n",
    "print(list2)\n",
    "\n",
    "print(list2.pop(1))\n",
    "print(list2)\n",
    "\n",
    "print(list2.pop())\n",
    "print(list2)\n",
    "\n",
    "print(list2.pop())\n",
    "print(list2)\n",
    "\n",
    "list2.clear()\n",
    "print(list2)"
   ]
  },
  {
   "cell_type": "code",
   "execution_count": 14,
   "metadata": {},
   "outputs": [
    {
     "name": "stdout",
     "output_type": "stream",
     "text": [
      "[33, 44, 88, 78, 44]\n",
      "1\n",
      "2\n",
      "[33, 44, 44, 78, 88]\n",
      "[88, 78, 44, 44, 33]\n"
     ]
    }
   ],
   "source": [
    "list3 = [33,44,88,78,44]\n",
    "print(list3)\n",
    "\n",
    "print(list3.index(44))\n",
    "\n",
    "print(list3.count(44))\n",
    "\n",
    "list3.sort()\n",
    "print(list3)\n",
    "\n",
    "list3.reverse()\n",
    "print(list3)\n"
   ]
  },
  {
   "cell_type": "code",
   "execution_count": 15,
   "metadata": {},
   "outputs": [
    {
     "name": "stdout",
     "output_type": "stream",
     "text": [
      "[1, 2, 4, 8, 16, 32, 64, 128, 256, 512]\n"
     ]
    }
   ],
   "source": [
    "list4 = [2 ** x for x in range(10)]\n",
    "print(list4)\n"
   ]
  },
  {
   "cell_type": "code",
   "execution_count": 16,
   "metadata": {},
   "outputs": [
    {
     "name": "stdout",
     "output_type": "stream",
     "text": [
      "[33, 88, 11, 66, 88, 44]\n",
      "True\n",
      "False\n",
      "False\n",
      "True\n"
     ]
    }
   ],
   "source": [
    "list3 = [33,88,11,66,88,44]\n",
    "print(list3)\n",
    "\n",
    "print(88 in list3)\n",
    "print(88 not in list3)\n",
    "print(100 in list3)\n",
    "print(100 not in list3)"
   ]
  },
  {
   "cell_type": "code",
   "execution_count": 17,
   "metadata": {},
   "outputs": [
    {
     "name": "stdout",
     "output_type": "stream",
     "text": [
      "Today is  Mon\n",
      "Today is  Tue\n",
      "Today is  Wed\n",
      "Today is  Thu\n",
      "Today is  Fri\n"
     ]
    }
   ],
   "source": [
    "for week_day in ['Mon','Tue','Wed','Thu','Fri']:\n",
    "    print(\"Today is \", week_day)"
   ]
  },
  {
   "cell_type": "code",
   "execution_count": 19,
   "metadata": {},
   "outputs": [
    {
     "name": "stdout",
     "output_type": "stream",
     "text": [
      "88\n",
      "0\n",
      "7\n",
      "330\n"
     ]
    }
   ],
   "source": [
    "list3 = [33,88,11,66,0,88,44]\n",
    "print(max(list3))\n",
    "print(min(list3))\n",
    "print(len(list3))\n",
    "print(sum(list3))"
   ]
  },
  {
   "cell_type": "code",
   "execution_count": 20,
   "metadata": {},
   "outputs": [
    {
     "name": "stdout",
     "output_type": "stream",
     "text": [
      "2\n",
      "4\n",
      "6\n",
      "8\n",
      "10\n",
      "12\n",
      "14\n",
      "16\n",
      "18\n"
     ]
    }
   ],
   "source": [
    "for i in range(1,20):\n",
    "    if(i%2 != 0):\n",
    "        continue \n",
    "    print(i)"
   ]
  },
  {
   "cell_type": "code",
   "execution_count": 24,
   "metadata": {},
   "outputs": [
    {
     "name": "stdout",
     "output_type": "stream",
     "text": [
      "1 Hello\n",
      "2 Hello\n",
      "3 Hello\n",
      "4 Hello\n",
      "5 Hello\n"
     ]
    }
   ],
   "source": [
    "a = [1,2,3,4,5]\n",
    "for i in a:\n",
    "    print(i,\"Hello\")"
   ]
  },
  {
   "cell_type": "code",
   "execution_count": 25,
   "metadata": {},
   "outputs": [
    {
     "name": "stdout",
     "output_type": "stream",
     "text": [
      "6 Range\n",
      "7 Range\n",
      "8 Range\n",
      "9 Range\n",
      "10 Range\n"
     ]
    }
   ],
   "source": [
    "for i in range(6,11):\n",
    "    print(i,\"Range\")"
   ]
  },
  {
   "cell_type": "code",
   "execution_count": 23,
   "metadata": {},
   "outputs": [
    {
     "name": "stdout",
     "output_type": "stream",
     "text": [
      "11\n",
      "12\n",
      "13\n",
      "14\n",
      "15\n",
      "Print completed\n"
     ]
    }
   ],
   "source": [
    "b = (11,12,13,14,15)\n",
    "\n",
    "for i in b:\n",
    "    print(i) \n",
    "else:\n",
    "    print(\"Print completed\")"
   ]
  }
 ],
 "metadata": {
  "kernelspec": {
   "display_name": "Python 3",
   "language": "python",
   "name": "python3"
  },
  "language_info": {
   "codemirror_mode": {
    "name": "ipython",
    "version": 3
   },
   "file_extension": ".py",
   "mimetype": "text/x-python",
   "name": "python",
   "nbconvert_exporter": "python",
   "pygments_lexer": "ipython3",
   "version": "3.12.6"
  }
 },
 "nbformat": 4,
 "nbformat_minor": 2
}
