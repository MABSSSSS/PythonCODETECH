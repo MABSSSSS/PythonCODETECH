{
 "cells": [
  {
   "cell_type": "code",
   "execution_count": 10,
   "metadata": {},
   "outputs": [],
   "source": [
    "class myBird:\n",
    "    def __init__(self):\n",
    "        print(\"My bird class constructor\")\n",
    "        \n",
    "    def what(self):\n",
    "        print(\"I am a Bird\")\n",
    "    def can(self):\n",
    "        print(\"I can swim...\")"
   ]
  },
  {
   "cell_type": "code",
   "execution_count": 13,
   "metadata": {},
   "outputs": [],
   "source": [
    "class myParrot:\n",
    "    species=\"Bird\"\n",
    "    \n",
    "    def __init__(self, name, age):\n",
    "        print(\"my parrot class constructor is excuting...\")\n",
    "        self.name = name \n",
    "        self.age = age \n",
    "        \n",
    "    def canSing(self, thisSong):\n",
    "        return \"{} can sing {}...\".format(self.name, thisSong)"
   ]
  },
  {
   "cell_type": "code",
   "execution_count": 18,
   "metadata": {},
   "outputs": [],
   "source": [
    "class Penguin(myBird):\n",
    "    \n",
    "    def __init__(self):\n",
    "        super().__init()\n",
    "        print(\"Penguin is ready\")\n",
    "        \n",
    "    def whoisThis(self):\n",
    "        print(\"I am Penguin\")\n",
    "        \n",
    "    def canRun(self):\n",
    "        print(\"I can run faster\")"
   ]
  },
  {
   "cell_type": "code",
   "execution_count": 20,
   "metadata": {},
   "outputs": [
    {
     "name": "stdout",
     "output_type": "stream",
     "text": [
      "my parrot class constructor is excuting...\n",
      "my parrot class constructor is excuting...\n",
      "MP1 is a Bird\n",
      "MP2 is a Bird\n",
      "myparrot is 10 years of age\n",
      "MyParrot2 is 15 years of age\n",
      "myparrot can sing Chirp...\n"
     ]
    },
    {
     "ename": "AttributeError",
     "evalue": "'super' object has no attribute '_Penguin__init'",
     "output_type": "error",
     "traceback": [
      "\u001b[1;31m---------------------------------------------------------------------------\u001b[0m",
      "\u001b[1;31mAttributeError\u001b[0m                            Traceback (most recent call last)",
      "Cell \u001b[1;32mIn[20], line 11\u001b[0m\n\u001b[0;32m      8\u001b[0m \u001b[38;5;28mprint\u001b[39m(\u001b[38;5;124m\"\u001b[39m\u001b[38;5;132;01m{}\u001b[39;00m\u001b[38;5;124m is \u001b[39m\u001b[38;5;132;01m{}\u001b[39;00m\u001b[38;5;124m years of age\u001b[39m\u001b[38;5;124m\"\u001b[39m\u001b[38;5;241m.\u001b[39mformat(mp2\u001b[38;5;241m.\u001b[39mname, mp2\u001b[38;5;241m.\u001b[39mage))\n\u001b[0;32m      9\u001b[0m \u001b[38;5;28mprint\u001b[39m(mp1\u001b[38;5;241m.\u001b[39mcanSing(\u001b[38;5;124m\"\u001b[39m\u001b[38;5;124mChirp\u001b[39m\u001b[38;5;124m\"\u001b[39m))\n\u001b[1;32m---> 11\u001b[0m pg1 \u001b[38;5;241m=\u001b[39m \u001b[43mPenguin\u001b[49m\u001b[43m(\u001b[49m\u001b[43m)\u001b[49m\n\u001b[0;32m     12\u001b[0m pg1\u001b[38;5;241m.\u001b[39mwhoisThis()\n\u001b[0;32m     13\u001b[0m pg1\u001b[38;5;241m.\u001b[39mcanRun()\n",
      "Cell \u001b[1;32mIn[18], line 4\u001b[0m, in \u001b[0;36mPenguin.__init__\u001b[1;34m(self)\u001b[0m\n\u001b[0;32m      3\u001b[0m \u001b[38;5;28;01mdef\u001b[39;00m \u001b[38;5;21m__init__\u001b[39m(\u001b[38;5;28mself\u001b[39m):\n\u001b[1;32m----> 4\u001b[0m     \u001b[38;5;28;43msuper\u001b[39;49m\u001b[43m(\u001b[49m\u001b[43m)\u001b[49m\u001b[38;5;241;43m.\u001b[39;49m\u001b[43m__init\u001b[49m()\n\u001b[0;32m      5\u001b[0m     \u001b[38;5;28mprint\u001b[39m(\u001b[38;5;124m\"\u001b[39m\u001b[38;5;124mPenguin is ready\u001b[39m\u001b[38;5;124m\"\u001b[39m)\n",
      "\u001b[1;31mAttributeError\u001b[0m: 'super' object has no attribute '_Penguin__init'"
     ]
    }
   ],
   "source": [
    "mp1 = myParrot(\"myparrot\", 10)\n",
    "mp2= myParrot(\"MyParrot2\",15)\n",
    "\n",
    "print(\"MP1 is a {}\".format(mp1.__class__.species))\n",
    "print(\"MP2 is a {}\".format(mp2.__class__.species))\n",
    "\n",
    "print(\"{} is {} years of age\".format(mp1.name, mp1.age))\n",
    "print(\"{} is {} years of age\".format(mp2.name, mp2.age))\n",
    "print(mp1.canSing(\"Chirp\"))\n",
    "\n",
    "pg1 = Penguin()\n",
    "pg1.whoisThis()\n",
    "pg1.canRun()\n"
   ]
  },
  {
   "cell_type": "code",
   "execution_count": 21,
   "metadata": {},
   "outputs": [
    {
     "name": "stdout",
     "output_type": "stream",
     "text": [
      "Selling Price: 20000\n",
      "Selling Price: 30000\n",
      "Selling Price: 40000\n"
     ]
    }
   ],
   "source": [
    "class personalComputer:\n",
    "    \n",
    "    def __init__(self):\n",
    "        self.maxComputerPrice = 20000\n",
    "        \n",
    "    def mySell(self):\n",
    "        print(\"Selling Price: {}\".format(self.maxComputerPrice))\n",
    "        \n",
    "    def setMaxComputerPrice(self, price):\n",
    "        self.maxComputerPrice = price \n",
    "        \n",
    "pc = personalComputer()\n",
    "pc.mySell()\n",
    "\n",
    "pc.maxComputerPrice = 30000\n",
    "pc.mySell()\n",
    "\n",
    "pc.setMaxComputerPrice(40000)\n",
    "pc.mySell()"
   ]
  },
  {
   "cell_type": "code",
   "execution_count": 22,
   "metadata": {},
   "outputs": [
    {
     "name": "stdout",
     "output_type": "stream",
     "text": [
      "Double of 10 is 20\n"
     ]
    }
   ],
   "source": [
    "a = lambda x:x*2 \n",
    "\n",
    "print(\"Double of 10 is\", a(10))"
   ]
  },
  {
   "cell_type": "code",
   "execution_count": 23,
   "metadata": {},
   "outputs": [
    {
     "name": "stdout",
     "output_type": "stream",
     "text": [
      "[2, 4]\n"
     ]
    }
   ],
   "source": [
    "my = [1,2,3,4,5,13]\n",
    "new =list(filter(lambda x:(x%2 ==0),my))\n",
    "\n",
    "print(new)"
   ]
  },
  {
   "cell_type": "code",
   "execution_count": 24,
   "metadata": {},
   "outputs": [
    {
     "name": "stdout",
     "output_type": "stream",
     "text": [
      "[2, 4, 6, 8, 10, 12, 14]\n"
     ]
    }
   ],
   "source": [
    "my_list = [1,2,3,4,5,6,7]\n",
    "\n",
    "new_list = list(map(lambda x: x * 2 , my_list))\n",
    "\n",
    "print(new_list)"
   ]
  }
 ],
 "metadata": {
  "kernelspec": {
   "display_name": "Python 3",
   "language": "python",
   "name": "python3"
  },
  "language_info": {
   "codemirror_mode": {
    "name": "ipython",
    "version": 3
   },
   "file_extension": ".py",
   "mimetype": "text/x-python",
   "name": "python",
   "nbconvert_exporter": "python",
   "pygments_lexer": "ipython3",
   "version": "3.12.6"
  }
 },
 "nbformat": 4,
 "nbformat_minor": 2
}
