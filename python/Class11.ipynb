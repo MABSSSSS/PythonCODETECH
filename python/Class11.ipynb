{
 "cells": [
  {
   "cell_type": "code",
   "execution_count": 1,
   "metadata": {},
   "outputs": [
    {
     "name": "stdout",
     "output_type": "stream",
     "text": [
      "Max number is: 999\n"
     ]
    }
   ],
   "source": [
    "def findMax(a , b):\n",
    "    if a>b:\n",
    "        return a \n",
    "    else:\n",
    "        return b \n",
    "print(\"Max number is:\", findMax(100,999))"
   ]
  },
  {
   "cell_type": "code",
   "execution_count": 2,
   "metadata": {},
   "outputs": [
    {
     "name": "stdout",
     "output_type": "stream",
     "text": [
      "Hello Agniba , have a nice day.\n",
      "Hello Agniba how are you?\n"
     ]
    }
   ],
   "source": [
    "def hello(name, msg = \"how are you?\"):\n",
    "    print(\"Hello\", name, msg)\n",
    "    \n",
    "hello(\"Agniba\",\", have a nice day.\")\n",
    "hello(\"Agniba\")"
   ]
  },
  {
   "cell_type": "code",
   "execution_count": 3,
   "metadata": {},
   "outputs": [
    {
     "name": "stdout",
     "output_type": "stream",
     "text": [
      "Sum of all integers between 1-5 is  15\n"
     ]
    }
   ],
   "source": [
    "def sumAll(*args):\n",
    "    sum = 0\n",
    "    for i in args:\n",
    "        sum+= i \n",
    "    return sum \n",
    "print(\"Sum of all integers between 1-5 is \", sumAll(1,2,3,4,5))"
   ]
  },
  {
   "cell_type": "code",
   "execution_count": 6,
   "metadata": {},
   "outputs": [
    {
     "name": "stdout",
     "output_type": "stream",
     "text": [
      "a = 10, b = 20, c=30...\n",
      "a = 10, b = 20, c=777...\n",
      "a = 10, b = 111, c=777...\n",
      "a = 11, b = 111, c=777...\n",
      "a = 333, b = 111, c=222...\n"
     ]
    }
   ],
   "source": [
    "def default(a=11,b=111,c=777):\n",
    "    print(\"a = {}, b = {}, c={}...\".format(a,b,c))\n",
    "    \n",
    "default(10,20,30)\n",
    "default(10,20)\n",
    "default(10)\n",
    "default()\n",
    "default(b=111,c=222,a=333)"
   ]
  },
  {
   "cell_type": "code",
   "execution_count": 7,
   "metadata": {},
   "outputs": [
    {
     "name": "stdout",
     "output_type": "stream",
     "text": [
      "Numer to be guessed :  8\n",
      "Numer guesssed : 1\n",
      "Numer guesssed : 2\n",
      "Numer guesssed : 3\n",
      "Numer guesssed : 4\n",
      "Numer guesssed : 5\n",
      "Numer guesssed : 6\n",
      "Numer guesssed : 7\n",
      "Numer guesssed : 8\n",
      "Random number has been guessed successfully!\n",
      "End of the program...\n"
     ]
    }
   ],
   "source": [
    "import random as r \n",
    "rand_num = r.randrange(1,20)\n",
    "\n",
    "print(\"Numer to be guessed : \", rand_num)\n",
    "\n",
    "i = 1 \n",
    "\n",
    "while True:\n",
    "    print(\"Numer guesssed :\",i) \n",
    "    if (i== rand_num):\n",
    "        print(\"Random number has been guessed successfully!\")\n",
    "        break \n",
    "    i+=1 \n",
    "print(\"End of the program...\")"
   ]
  },
  {
   "cell_type": "code",
   "execution_count": 16,
   "metadata": {},
   "outputs": [
    {
     "name": "stdout",
     "output_type": "stream",
     "text": [
      "6/8.0 = 0.75\n"
     ]
    }
   ],
   "source": [
    "try:\n",
    "    a = int(input(\"Pleas enter any number\"))\n",
    "    b = float(input(\"Enter seocnd number:\"))\n",
    "    if (a<0):\n",
    "        raise TypeError\n",
    "    c=a/b \n",
    "    print(\"{}/{} = {}\".format(a,b,c))\n",
    "except ZeroDivisionError:\n",
    "    print(\"Div zero is not possible\")\n",
    "    \n",
    "except ValueError:\n",
    "    print(\"The datatypes are not proper\")\n",
    "    \n",
    "except TypeError:\n",
    "    print(\"The data is not in range\")\n",
    "except NameError:\n",
    "    print(\"The data items are not defined\") "
   ]
  }
 ],
 "metadata": {
  "kernelspec": {
   "display_name": "Python 3",
   "language": "python",
   "name": "python3"
  },
  "language_info": {
   "codemirror_mode": {
    "name": "ipython",
    "version": 3
   },
   "file_extension": ".py",
   "mimetype": "text/x-python",
   "name": "python",
   "nbconvert_exporter": "python",
   "pygments_lexer": "ipython3",
   "version": "3.12.6"
  }
 },
 "nbformat": 4,
 "nbformat_minor": 2
}
