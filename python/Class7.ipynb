{
 "cells": [
  {
   "cell_type": "code",
   "execution_count": 2,
   "metadata": {},
   "outputs": [
    {
     "name": "stdout",
     "output_type": "stream",
     "text": [
      "Hello functions\n",
      "Hello I love to code in python. \n",
      "\n",
      "    This is docs string declaration\n",
      "    multiline context\n"
     ]
    }
   ],
   "source": [
    "def hello():\n",
    "    print(\"Hello functions\")\n",
    "    \n",
    "def helloo():\n",
    "    '''\n",
    "    This is docs string declaration\n",
    "    multiline context'''\n",
    "    return \"Hello I love to code in python. \"\n",
    "\n",
    "hello()\n",
    "print(helloo())\n",
    "print(helloo.__doc__)"
   ]
  },
  {
   "cell_type": "code",
   "execution_count": 11,
   "metadata": {},
   "outputs": [
    {
     "name": "stdout",
     "output_type": "stream",
     "text": [
      "Zerodividend\n"
     ]
    }
   ],
   "source": [
    "def add(x,y):\n",
    "    print(\"Perfroming add opt...\")\n",
    "    return (x+y)\n",
    "def sub(x,y):\n",
    "    print(\"Sub operation\")\n",
    "    return x- y\n",
    "def div(x,y):\n",
    "    if y>0:\n",
    "     print(x/y)\n",
    "print(\"Zerodividend\")\n",
    "def menu():\n",
    "    ch = int(input(\"Please enter your option number...\"))\n",
    "    return ch \n",
    "\n",
    "def calculate():\n",
    "    ch = menu()\n",
    "    n = int(input(\"Enter a number:\"))\n",
    "    nn = int(input(\"Enter a second number\"))\n",
    "    if ch==1:\n",
    "        result = add(n,nn)\n",
    "        \n",
    "    elif ch==2:\n",
    "        result = sub(n, nn)\n",
    "    elif ch==3:\n",
    "        result = div(n, nn)\n",
    "        \n",
    "        \n",
    "calculate()\n",
    "\n"
   ]
  },
  {
   "cell_type": "markdown",
   "metadata": {},
   "source": [
    "Decorators"
   ]
  },
  {
   "cell_type": "code",
   "execution_count": 23,
   "metadata": {},
   "outputs": [
    {
     "name": "stdout",
     "output_type": "stream",
     "text": [
      "I got decorated\n",
      "I am simple function\n"
     ]
    }
   ],
   "source": [
    "def dec(func):\n",
    "    def inner():\n",
    "        print(\"I got decorated\")\n",
    "        func()\n",
    "    return inner\n",
    "@dec\n",
    "def simple():\n",
    "    print(\"I am simple function\")\n",
    "    \n",
    "decor = dec(simple)\n",
    "\n",
    "\n",
    "simple()"
   ]
  },
  {
   "cell_type": "markdown",
   "metadata": {},
   "source": [
    "Closures"
   ]
  },
  {
   "cell_type": "code",
   "execution_count": 25,
   "metadata": {},
   "outputs": [],
   "source": [
    "def print(message):\n",
    "    \n",
    "    def mes():\n",
    "        \n",
    "        print(message)\n",
    "        \n",
    "    return mes \n",
    "another = print(\"Hello\")\n",
    "another()"
   ]
  },
  {
   "cell_type": "code",
   "execution_count": 28,
   "metadata": {},
   "outputs": [
    {
     "data": {
      "text/plain": [
       "<function __main__.print.<locals>.mes()>"
      ]
     },
     "execution_count": 28,
     "metadata": {},
     "output_type": "execute_result"
    }
   ],
   "source": [
    "def m(n):\n",
    "    def inn(x):\n",
    "        return x * n\n",
    "    return inn\n",
    "\n",
    "t = m(3)\n",
    "tt = m(5)\n",
    "\n",
    "print(t(9))\n",
    "print(tt(3))\n",
    "\n",
    "print(t(tt(2)))"
   ]
  }
 ],
 "metadata": {
  "kernelspec": {
   "display_name": "Python 3",
   "language": "python",
   "name": "python3"
  },
  "language_info": {
   "codemirror_mode": {
    "name": "ipython",
    "version": 3
   },
   "file_extension": ".py",
   "mimetype": "text/x-python",
   "name": "python",
   "nbconvert_exporter": "python",
   "pygments_lexer": "ipython3",
   "version": "3.12.6"
  }
 },
 "nbformat": 4,
 "nbformat_minor": 2
}
