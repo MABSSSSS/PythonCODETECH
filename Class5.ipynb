{
 "cells": [
  {
   "cell_type": "code",
   "execution_count": 3,
   "metadata": {},
   "outputs": [
    {
     "name": "stdout",
     "output_type": "stream",
     "text": [
      "x = 15 and y = 4\n",
      "60\n",
      "11\n",
      "19\n",
      "50625\n",
      "3\n",
      "3.75\n",
      "3\n"
     ]
    }
   ],
   "source": [
    "x =15\n",
    "y =4\n",
    "print(\"x = {} and y = {}\".format(x,y))\n",
    "print(x*y)\n",
    "print(x-y)\n",
    "print(x+y)\n",
    "print(x**y)\n",
    "print(x//y)\n",
    "print(x/y)\n",
    "print(x%y)"
   ]
  },
  {
   "cell_type": "code",
   "execution_count": 4,
   "metadata": {},
   "outputs": [
    {
     "name": "stdout",
     "output_type": "stream",
     "text": [
      "x = 15 and y = 4\n",
      "True\n",
      "False\n",
      "True\n",
      "False\n",
      "True\n",
      "False\n",
      "False\n"
     ]
    }
   ],
   "source": [
    "x =15\n",
    "y =4\n",
    "print(\"x = {} and y = {}\".format(x,y))\n",
    "print(x>y)\n",
    "print(x<y)\n",
    "print(x>=y)\n",
    "print(x<=y)\n",
    "print(x!=y)\n",
    "print(x==y)\n",
    "print(x < y)"
   ]
  },
  {
   "cell_type": "code",
   "execution_count": 5,
   "metadata": {},
   "outputs": [
    {
     "name": "stdout",
     "output_type": "stream",
     "text": [
      "x = True and y=False\n",
      "x and y is False\n",
      "x or y  True\n",
      "False\n"
     ]
    }
   ],
   "source": [
    "x = True\n",
    "y = False \n",
    "print(\"x = {} and y={}\".format(x,y))\n",
    "\n",
    "print('x and y is', x and y)\n",
    "print('x or y ', x or y)\n",
    "print(not x)"
   ]
  },
  {
   "cell_type": "code",
   "execution_count": 6,
   "metadata": {},
   "outputs": [
    {
     "name": "stdout",
     "output_type": "stream",
     "text": [
      "False\n",
      "True\n",
      "2358577595424 2358577595424\n",
      "False\n",
      "2358577782912 2358577979648\n"
     ]
    }
   ],
   "source": [
    "x=5\n",
    "x2 ='Hello'\n",
    "y = 5\n",
    "y2='Hello'\n",
    "x3 =[1,2,3]\n",
    "y3 =[1,2,3]\n",
    "\n",
    "print(x is not y)\n",
    "print(x2 is y2)\n",
    "print(id(x2),id(y2))\n",
    "\n",
    "print(x3 is y3)\n",
    "print(id(x3), id(y3))"
   ]
  },
  {
   "cell_type": "code",
   "execution_count": 7,
   "metadata": {},
   "outputs": [
    {
     "name": "stdout",
     "output_type": "stream",
     "text": [
      "x = Hello World and y ={1: 'a', 2: 'b'}\n",
      "True\n",
      "True\n",
      "True\n",
      "False\n"
     ]
    }
   ],
   "source": [
    "x ='Hello World'\n",
    "y = {1:'a',2:'b'}\n",
    "\n",
    "print(\"x = {} and y ={}\".format(x,y))\n",
    "print('H' in x)\n",
    "print('hello ' not in x)\n",
    "print(1 in y)\n",
    "\n",
    "print('a' in y)"
   ]
  },
  {
   "cell_type": "code",
   "execution_count": 8,
   "metadata": {},
   "outputs": [
    {
     "name": "stdout",
     "output_type": "stream",
     "text": [
      "x = 10 and y = 4\n",
      "0\n",
      "14\n",
      "-11\n",
      "14\n",
      "2\n",
      "40\n"
     ]
    }
   ],
   "source": [
    "x= 10\n",
    "y=4\n",
    "print(\"x = {} and y = {}\".format(x,y))\n",
    "\n",
    "print(x & y)\n",
    "\n",
    "print(x|y)\n",
    "\n",
    "print(~x)\n",
    "\n",
    "print(x^y)\n",
    "\n",
    "print(x>>2)\n",
    "\n",
    "print(x<<2)"
   ]
  },
  {
   "cell_type": "markdown",
   "metadata": {},
   "source": [
    "Exceptions"
   ]
  },
  {
   "cell_type": "code",
   "execution_count": 10,
   "metadata": {},
   "outputs": [
    {
     "name": "stdout",
     "output_type": "stream",
     "text": [
      "Exception caught\n"
     ]
    }
   ],
   "source": [
    "try:\n",
    "    \"\"\"\n",
    "    Exceptions cehcking\n",
    "    \"\"\"\n",
    "    a = \"hi\"\n",
    "    b = int(a)\n",
    "    print(b)\n",
    "except:\n",
    "    print(\"Exception caught\")"
   ]
  },
  {
   "cell_type": "code",
   "execution_count": 11,
   "metadata": {},
   "outputs": [
    {
     "name": "stdout",
     "output_type": "stream",
     "text": [
      "Division by zero is not possible\n"
     ]
    }
   ],
   "source": [
    "try:\n",
    "    a = 5\n",
    "    b =0\n",
    "    c = a/b \n",
    "except ZeroDivisionError:\n",
    "    print(\"Division by zero is not possible\")\n",
    "    "
   ]
  },
  {
   "cell_type": "code",
   "execution_count": 12,
   "metadata": {},
   "outputs": [
    {
     "name": "stdout",
     "output_type": "stream",
     "text": [
      "TypeError exception caught\n"
     ]
    }
   ],
   "source": [
    "try:\n",
    "    raise TypeError\n",
    "except TypeError:\n",
    "    print(\"TypeError exception caught\")"
   ]
  },
  {
   "cell_type": "code",
   "execution_count": 13,
   "metadata": {},
   "outputs": [
    {
     "name": "stdout",
     "output_type": "stream",
     "text": [
      "In try block\n",
      "In the finally block\n"
     ]
    }
   ],
   "source": [
    "try:\n",
    "    print(\"In try block\")\n",
    "except:\n",
    "    print(\"In except block\")\n",
    "finally:\n",
    "    print(\"In the finally block\")"
   ]
  }
 ],
 "metadata": {
  "kernelspec": {
   "display_name": "Python 3",
   "language": "python",
   "name": "python3"
  },
  "language_info": {
   "codemirror_mode": {
    "name": "ipython",
    "version": 3
   },
   "file_extension": ".py",
   "mimetype": "text/x-python",
   "name": "python",
   "nbconvert_exporter": "python",
   "pygments_lexer": "ipython3",
   "version": "3.12.6"
  }
 },
 "nbformat": 4,
 "nbformat_minor": 2
}
